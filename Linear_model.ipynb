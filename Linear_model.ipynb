{
  "nbformat": 4,
  "nbformat_minor": 0,
  "metadata": {
    "colab": {
      "provenance": [],
      "include_colab_link": true
    },
    "kernelspec": {
      "name": "python3",
      "display_name": "Python 3"
    },
    "language_info": {
      "name": "python"
    },
    "gpuClass": "standard"
  },
  "cells": [
    {
      "cell_type": "markdown",
      "metadata": {
        "id": "view-in-github",
        "colab_type": "text"
      },
      "source": [
        "<a href=\"https://colab.research.google.com/github/AdrianSerbanescu/NLP_Notebooks/blob/main/Linear_model.ipynb\" target=\"_parent\"><img src=\"https://colab.research.google.com/assets/colab-badge.svg\" alt=\"Open In Colab\"/></a>"
      ]
    },
    {
      "cell_type": "code",
      "source": [
        "# Run in Colab to install and import local packages\n",
        "!pip install spacy datasets pandas\n",
        "import pandas as pd\n",
        "import numpy as np\n",
        "import matplotlib.pyplot as plt\n",
        "import datasets \n",
        "from sklearn.dummy import DummyRegressor\n",
        "from sklearn.linear_model import LinearRegression\n",
        "from sklearn.model_selection import train_test_split\n",
        "from sklearn.metrics import mean_absolute_error, mean_squared_error\n",
        "from sklearn.model_selection import KFold"
      ],
      "metadata": {
        "id": "wTdRlZKcmTGK",
        "colab": {
          "base_uri": "https://localhost:8080/"
        },
        "outputId": "a68b5da9-2dbe-4817-feb8-280f3defed8d"
      },
      "execution_count": null,
      "outputs": [
        {
          "output_type": "stream",
          "name": "stdout",
          "text": [
            "Looking in indexes: https://pypi.org/simple, https://us-python.pkg.dev/colab-wheels/public/simple/\n",
            "Requirement already satisfied: spacy in /usr/local/lib/python3.9/dist-packages (3.5.1)\n",
            "Requirement already satisfied: datasets in /usr/local/lib/python3.9/dist-packages (2.11.0)\n",
            "Requirement already satisfied: pandas in /usr/local/lib/python3.9/dist-packages (1.4.4)\n",
            "Requirement already satisfied: pydantic!=1.8,!=1.8.1,<1.11.0,>=1.7.4 in /usr/local/lib/python3.9/dist-packages (from spacy) (1.10.7)\n",
            "Requirement already satisfied: tqdm<5.0.0,>=4.38.0 in /usr/local/lib/python3.9/dist-packages (from spacy) (4.65.0)\n",
            "Requirement already satisfied: cymem<2.1.0,>=2.0.2 in /usr/local/lib/python3.9/dist-packages (from spacy) (2.0.7)\n",
            "Requirement already satisfied: jinja2 in /usr/local/lib/python3.9/dist-packages (from spacy) (3.1.2)\n",
            "Requirement already satisfied: preshed<3.1.0,>=3.0.2 in /usr/local/lib/python3.9/dist-packages (from spacy) (3.0.8)\n",
            "Requirement already satisfied: srsly<3.0.0,>=2.4.3 in /usr/local/lib/python3.9/dist-packages (from spacy) (2.4.6)\n",
            "Requirement already satisfied: spacy-loggers<2.0.0,>=1.0.0 in /usr/local/lib/python3.9/dist-packages (from spacy) (1.0.4)\n",
            "Requirement already satisfied: thinc<8.2.0,>=8.1.8 in /usr/local/lib/python3.9/dist-packages (from spacy) (8.1.9)\n",
            "Requirement already satisfied: typer<0.8.0,>=0.3.0 in /usr/local/lib/python3.9/dist-packages (from spacy) (0.7.0)\n",
            "Requirement already satisfied: langcodes<4.0.0,>=3.2.0 in /usr/local/lib/python3.9/dist-packages (from spacy) (3.3.0)\n",
            "Requirement already satisfied: spacy-legacy<3.1.0,>=3.0.11 in /usr/local/lib/python3.9/dist-packages (from spacy) (3.0.12)\n",
            "Requirement already satisfied: murmurhash<1.1.0,>=0.28.0 in /usr/local/lib/python3.9/dist-packages (from spacy) (1.0.9)\n",
            "Requirement already satisfied: requests<3.0.0,>=2.13.0 in /usr/local/lib/python3.9/dist-packages (from spacy) (2.27.1)\n",
            "Requirement already satisfied: smart-open<7.0.0,>=5.2.1 in /usr/local/lib/python3.9/dist-packages (from spacy) (6.3.0)\n",
            "Requirement already satisfied: setuptools in /usr/local/lib/python3.9/dist-packages (from spacy) (67.6.1)\n",
            "Requirement already satisfied: pathy>=0.10.0 in /usr/local/lib/python3.9/dist-packages (from spacy) (0.10.1)\n",
            "Requirement already satisfied: packaging>=20.0 in /usr/local/lib/python3.9/dist-packages (from spacy) (23.0)\n",
            "Requirement already satisfied: numpy>=1.15.0 in /usr/local/lib/python3.9/dist-packages (from spacy) (1.22.4)\n",
            "Requirement already satisfied: catalogue<2.1.0,>=2.0.6 in /usr/local/lib/python3.9/dist-packages (from spacy) (2.0.8)\n",
            "Requirement already satisfied: wasabi<1.2.0,>=0.9.1 in /usr/local/lib/python3.9/dist-packages (from spacy) (1.1.1)\n",
            "Requirement already satisfied: pyarrow>=8.0.0 in /usr/local/lib/python3.9/dist-packages (from datasets) (9.0.0)\n",
            "Requirement already satisfied: fsspec[http]>=2021.11.1 in /usr/local/lib/python3.9/dist-packages (from datasets) (2023.3.0)\n",
            "Requirement already satisfied: xxhash in /usr/local/lib/python3.9/dist-packages (from datasets) (3.2.0)\n",
            "Requirement already satisfied: huggingface-hub<1.0.0,>=0.11.0 in /usr/local/lib/python3.9/dist-packages (from datasets) (0.13.4)\n",
            "Requirement already satisfied: dill<0.3.7,>=0.3.0 in /usr/local/lib/python3.9/dist-packages (from datasets) (0.3.6)\n",
            "Requirement already satisfied: multiprocess in /usr/local/lib/python3.9/dist-packages (from datasets) (0.70.14)\n",
            "Requirement already satisfied: pyyaml>=5.1 in /usr/local/lib/python3.9/dist-packages (from datasets) (6.0)\n",
            "Requirement already satisfied: responses<0.19 in /usr/local/lib/python3.9/dist-packages (from datasets) (0.18.0)\n",
            "Requirement already satisfied: aiohttp in /usr/local/lib/python3.9/dist-packages (from datasets) (3.8.4)\n",
            "Requirement already satisfied: pytz>=2020.1 in /usr/local/lib/python3.9/dist-packages (from pandas) (2022.7.1)\n",
            "Requirement already satisfied: python-dateutil>=2.8.1 in /usr/local/lib/python3.9/dist-packages (from pandas) (2.8.2)\n",
            "Requirement already satisfied: yarl<2.0,>=1.0 in /usr/local/lib/python3.9/dist-packages (from aiohttp->datasets) (1.8.2)\n",
            "Requirement already satisfied: aiosignal>=1.1.2 in /usr/local/lib/python3.9/dist-packages (from aiohttp->datasets) (1.3.1)\n",
            "Requirement already satisfied: frozenlist>=1.1.1 in /usr/local/lib/python3.9/dist-packages (from aiohttp->datasets) (1.3.3)\n",
            "Requirement already satisfied: attrs>=17.3.0 in /usr/local/lib/python3.9/dist-packages (from aiohttp->datasets) (22.2.0)\n",
            "Requirement already satisfied: charset-normalizer<4.0,>=2.0 in /usr/local/lib/python3.9/dist-packages (from aiohttp->datasets) (2.0.12)\n",
            "Requirement already satisfied: multidict<7.0,>=4.5 in /usr/local/lib/python3.9/dist-packages (from aiohttp->datasets) (6.0.4)\n",
            "Requirement already satisfied: async-timeout<5.0,>=4.0.0a3 in /usr/local/lib/python3.9/dist-packages (from aiohttp->datasets) (4.0.2)\n",
            "Requirement already satisfied: filelock in /usr/local/lib/python3.9/dist-packages (from huggingface-hub<1.0.0,>=0.11.0->datasets) (3.10.7)\n",
            "Requirement already satisfied: typing-extensions>=3.7.4.3 in /usr/local/lib/python3.9/dist-packages (from huggingface-hub<1.0.0,>=0.11.0->datasets) (4.5.0)\n",
            "Requirement already satisfied: six>=1.5 in /usr/local/lib/python3.9/dist-packages (from python-dateutil>=2.8.1->pandas) (1.16.0)\n",
            "Requirement already satisfied: idna<4,>=2.5 in /usr/local/lib/python3.9/dist-packages (from requests<3.0.0,>=2.13.0->spacy) (3.4)\n",
            "Requirement already satisfied: certifi>=2017.4.17 in /usr/local/lib/python3.9/dist-packages (from requests<3.0.0,>=2.13.0->spacy) (2022.12.7)\n",
            "Requirement already satisfied: urllib3<1.27,>=1.21.1 in /usr/local/lib/python3.9/dist-packages (from requests<3.0.0,>=2.13.0->spacy) (1.26.15)\n",
            "Requirement already satisfied: confection<1.0.0,>=0.0.1 in /usr/local/lib/python3.9/dist-packages (from thinc<8.2.0,>=8.1.8->spacy) (0.0.4)\n",
            "Requirement already satisfied: blis<0.8.0,>=0.7.8 in /usr/local/lib/python3.9/dist-packages (from thinc<8.2.0,>=8.1.8->spacy) (0.7.9)\n",
            "Requirement already satisfied: click<9.0.0,>=7.1.1 in /usr/local/lib/python3.9/dist-packages (from typer<0.8.0,>=0.3.0->spacy) (8.1.3)\n",
            "Requirement already satisfied: MarkupSafe>=2.0 in /usr/local/lib/python3.9/dist-packages (from jinja2->spacy) (2.1.2)\n"
          ]
        }
      ]
    },
    {
      "cell_type": "code",
      "source": [
        "# Splits the annotations for src, tgt, mt into the types (\"upos\", \"feats\", \"head\", \"deprel\", \"start_char\", \"end_char\", \"ner\")\n",
        "def split_annotation(data, type):\n",
        "  return data[type]"
      ],
      "metadata": {
        "id": "BQLHQXRxTJqP"
      },
      "execution_count": null,
      "outputs": []
    },
    {
      "cell_type": "code",
      "execution_count": null,
      "metadata": {
        "id": "kZmR5Kfyif9L"
      },
      "outputs": [],
      "source": [
        "# Load the dataset\n",
        "def load_data():\n",
        "  data = datasets.load_dataset(\"GroNLP/divemt\", split = \"train\")\n",
        "  data.to_pandas().head()\n",
        "\n",
        "  # Splitting the annotations into \"upos\", \"feats\", \"head\", \"deprel\", \"start_char\", \"end_char\", \"ner\"\n",
        "  names_src = [\"src_upos\", \"src_feats\", \"src_head\", \"src_deprel\", \"src_start_char\", \"src_end_char\", \"src_ner\"]\n",
        "  names_tgt = [\"tgt_upos\", \"tgt_feats\", \"tgt_head\", \"tgt_deprel\", \"tgt_start_char\", \"tgt_end_char\", \"tgt_ner\"]\n",
        "  names_mt = [\"mt_upos\", \"mt_feats\", \"mt_head\", \"mt_deprel\", \"mt_start_char\", \"mt_end_char\", \"mt_ner\"]\n",
        "  elem = [\"upos\", \"feats\", \"head\", \"deprel\", \"start_char\", \"end_char\", \"ner\"]\n",
        "  for i in range(len(elem)):\n",
        "    data = data.map(lambda x: {names_src[i]: split_annotation(x[\"src_annotations\"], elem[i])})\n",
        "    data = data.map(lambda x: {names_tgt[i]: split_annotation(x[\"tgt_annotations\"], elem[i])})\n",
        "    data = data.map(lambda x: {names_mt[i]: split_annotation(x[\"mt_annotations\"], elem[i])})\n",
        "  return data"
      ]
    },
    {
      "cell_type": "code",
      "source": [
        "# Remove all the human-translated sentences.\n",
        "def remove_ht(data):\n",
        "  data = data.filter(lambda line: line[\"translation_type\"] == \"pe\")\n",
        "  print(data)\n",
        "  return data\n",
        "\n",
        "data = load_data()\n",
        "data_mt = remove_ht(data)"
      ],
      "metadata": {
        "id": "p9O2Lyx1Nbvp",
        "colab": {
          "base_uri": "https://localhost:8080/"
        },
        "outputId": "22d5e9bc-36f1-4174-a891-16542214f72d"
      },
      "execution_count": null,
      "outputs": [
        {
          "output_type": "stream",
          "name": "stderr",
          "text": [
            "WARNING:datasets.builder:No config specified, defaulting to: divemt/main\n",
            "WARNING:datasets.builder:Found cached dataset divemt (/root/.cache/huggingface/datasets/GroNLP___divemt/main/1.0.0/c875a08adbd66d5d9c6d8c79f7816092829b41f855641161190c69e19b4f11b1)\n",
            "WARNING:datasets.arrow_dataset:Loading cached processed dataset at /root/.cache/huggingface/datasets/GroNLP___divemt/main/1.0.0/c875a08adbd66d5d9c6d8c79f7816092829b41f855641161190c69e19b4f11b1/cache-12ec80e0cca815fd.arrow\n",
            "WARNING:datasets.arrow_dataset:Loading cached processed dataset at /root/.cache/huggingface/datasets/GroNLP___divemt/main/1.0.0/c875a08adbd66d5d9c6d8c79f7816092829b41f855641161190c69e19b4f11b1/cache-dc2f1b8ae6c005ac.arrow\n",
            "WARNING:datasets.arrow_dataset:Loading cached processed dataset at /root/.cache/huggingface/datasets/GroNLP___divemt/main/1.0.0/c875a08adbd66d5d9c6d8c79f7816092829b41f855641161190c69e19b4f11b1/cache-571ac46cb403c244.arrow\n",
            "WARNING:datasets.arrow_dataset:Loading cached processed dataset at /root/.cache/huggingface/datasets/GroNLP___divemt/main/1.0.0/c875a08adbd66d5d9c6d8c79f7816092829b41f855641161190c69e19b4f11b1/cache-bc849f0145040d8e.arrow\n",
            "WARNING:datasets.arrow_dataset:Loading cached processed dataset at /root/.cache/huggingface/datasets/GroNLP___divemt/main/1.0.0/c875a08adbd66d5d9c6d8c79f7816092829b41f855641161190c69e19b4f11b1/cache-f4441babd9e1d369.arrow\n",
            "WARNING:datasets.arrow_dataset:Loading cached processed dataset at /root/.cache/huggingface/datasets/GroNLP___divemt/main/1.0.0/c875a08adbd66d5d9c6d8c79f7816092829b41f855641161190c69e19b4f11b1/cache-2524e9e4afa65003.arrow\n",
            "WARNING:datasets.arrow_dataset:Loading cached processed dataset at /root/.cache/huggingface/datasets/GroNLP___divemt/main/1.0.0/c875a08adbd66d5d9c6d8c79f7816092829b41f855641161190c69e19b4f11b1/cache-4ca5d4d483f41d3d.arrow\n",
            "WARNING:datasets.arrow_dataset:Loading cached processed dataset at /root/.cache/huggingface/datasets/GroNLP___divemt/main/1.0.0/c875a08adbd66d5d9c6d8c79f7816092829b41f855641161190c69e19b4f11b1/cache-502fbed87c14e09c.arrow\n",
            "WARNING:datasets.arrow_dataset:Loading cached processed dataset at /root/.cache/huggingface/datasets/GroNLP___divemt/main/1.0.0/c875a08adbd66d5d9c6d8c79f7816092829b41f855641161190c69e19b4f11b1/cache-b7be8a4ce4a413ce.arrow\n",
            "WARNING:datasets.arrow_dataset:Loading cached processed dataset at /root/.cache/huggingface/datasets/GroNLP___divemt/main/1.0.0/c875a08adbd66d5d9c6d8c79f7816092829b41f855641161190c69e19b4f11b1/cache-7b0a3d693813a4b2.arrow\n",
            "WARNING:datasets.arrow_dataset:Loading cached processed dataset at /root/.cache/huggingface/datasets/GroNLP___divemt/main/1.0.0/c875a08adbd66d5d9c6d8c79f7816092829b41f855641161190c69e19b4f11b1/cache-685e254a0b843a9f.arrow\n",
            "WARNING:datasets.arrow_dataset:Loading cached processed dataset at /root/.cache/huggingface/datasets/GroNLP___divemt/main/1.0.0/c875a08adbd66d5d9c6d8c79f7816092829b41f855641161190c69e19b4f11b1/cache-0e222cc9995d9a1e.arrow\n",
            "WARNING:datasets.arrow_dataset:Loading cached processed dataset at /root/.cache/huggingface/datasets/GroNLP___divemt/main/1.0.0/c875a08adbd66d5d9c6d8c79f7816092829b41f855641161190c69e19b4f11b1/cache-9306db5e5f557a88.arrow\n",
            "WARNING:datasets.arrow_dataset:Loading cached processed dataset at /root/.cache/huggingface/datasets/GroNLP___divemt/main/1.0.0/c875a08adbd66d5d9c6d8c79f7816092829b41f855641161190c69e19b4f11b1/cache-e6c478820e881987.arrow\n",
            "WARNING:datasets.arrow_dataset:Loading cached processed dataset at /root/.cache/huggingface/datasets/GroNLP___divemt/main/1.0.0/c875a08adbd66d5d9c6d8c79f7816092829b41f855641161190c69e19b4f11b1/cache-f665f87065e3487e.arrow\n",
            "WARNING:datasets.arrow_dataset:Loading cached processed dataset at /root/.cache/huggingface/datasets/GroNLP___divemt/main/1.0.0/c875a08adbd66d5d9c6d8c79f7816092829b41f855641161190c69e19b4f11b1/cache-ea2e545e30a975fc.arrow\n",
            "WARNING:datasets.arrow_dataset:Loading cached processed dataset at /root/.cache/huggingface/datasets/GroNLP___divemt/main/1.0.0/c875a08adbd66d5d9c6d8c79f7816092829b41f855641161190c69e19b4f11b1/cache-5604a6afd64b4895.arrow\n",
            "WARNING:datasets.arrow_dataset:Loading cached processed dataset at /root/.cache/huggingface/datasets/GroNLP___divemt/main/1.0.0/c875a08adbd66d5d9c6d8c79f7816092829b41f855641161190c69e19b4f11b1/cache-5fe3d147ec400b04.arrow\n",
            "WARNING:datasets.arrow_dataset:Loading cached processed dataset at /root/.cache/huggingface/datasets/GroNLP___divemt/main/1.0.0/c875a08adbd66d5d9c6d8c79f7816092829b41f855641161190c69e19b4f11b1/cache-e6bfc42df6580502.arrow\n",
            "WARNING:datasets.arrow_dataset:Loading cached processed dataset at /root/.cache/huggingface/datasets/GroNLP___divemt/main/1.0.0/c875a08adbd66d5d9c6d8c79f7816092829b41f855641161190c69e19b4f11b1/cache-49611548061d37a7.arrow\n",
            "WARNING:datasets.arrow_dataset:Loading cached processed dataset at /root/.cache/huggingface/datasets/GroNLP___divemt/main/1.0.0/c875a08adbd66d5d9c6d8c79f7816092829b41f855641161190c69e19b4f11b1/cache-d5f206617ff942ca.arrow\n",
            "WARNING:datasets.arrow_dataset:Loading cached processed dataset at /root/.cache/huggingface/datasets/GroNLP___divemt/main/1.0.0/c875a08adbd66d5d9c6d8c79f7816092829b41f855641161190c69e19b4f11b1/cache-a21e79b986d6842e.arrow\n"
          ]
        },
        {
          "output_type": "stream",
          "name": "stdout",
          "text": [
            "Dataset({\n",
            "    features: ['unit_id', 'flores_id', 'item_id', 'subject_id', 'lang_id', 'doc_id', 'task_type', 'translation_type', 'src_len_chr', 'mt_len_chr', 'tgt_len_chr', 'src_len_wrd', 'mt_len_wrd', 'tgt_len_wrd', 'edit_time', 'k_total', 'k_letter', 'k_digit', 'k_white', 'k_symbol', 'k_nav', 'k_erase', 'k_copy', 'k_cut', 'k_paste', 'k_do', 'n_pause_geq_300', 'len_pause_geq_300', 'n_pause_geq_1000', 'len_pause_geq_1000', 'event_time', 'num_annotations', 'last_modification_time', 'n_insert', 'n_delete', 'n_substitute', 'n_shift', 'tot_shifted_words', 'tot_edits', 'hter', 'cer', 'bleu', 'chrf', 'time_s', 'time_m', 'time_h', 'time_per_char', 'time_per_word', 'key_per_char', 'words_per_hour', 'words_per_minute', 'per_subject_visit_order', 'src_text', 'mt_text', 'tgt_text', 'aligned_edit', 'src_tokens', 'src_annotations', 'mt_tokens', 'mt_annotations', 'tgt_tokens', 'tgt_annotations', 'src_wmt22_qe', 'mt_wmt22_qe', 'src_upos', 'tgt_upos', 'mt_upos', 'src_feats', 'tgt_feats', 'mt_feats', 'src_head', 'tgt_head', 'mt_head', 'src_deprel', 'tgt_deprel', 'mt_deprel', 'src_start_char', 'tgt_start_char', 'mt_start_char', 'src_end_char', 'tgt_end_char', 'mt_end_char', 'src_ner', 'tgt_ner', 'mt_ner'],\n",
            "    num_rows: 5160\n",
            "})\n"
          ]
        }
      ]
    },
    {
      "cell_type": "code",
      "source": [
        "# Create a baseline predictor using the mean and predict the validation targets using the validation features.\n",
        "def baseline_prediction(features, target, validation_features):\n",
        "  # Create a baseline model and fit it.\n",
        "  baseline = DummyRegressor(strategy=\"mean\")\n",
        "  baseline.fit(features, target)\n",
        "  # Predict the values for the validation features.\n",
        "  predictions = baseline.predict(validation_features)\n",
        "  return predictions, baseline"
      ],
      "metadata": {
        "id": "_HuRPH1Co99F"
      },
      "execution_count": null,
      "outputs": []
    },
    {
      "cell_type": "code",
      "source": [
        "# Create a linear regression predictor and predict the validation targets using the validation features.\n",
        "def regressor_prediction(features, target, validation_features):\n",
        "  # Create the linear regression model and fit it using training features.\n",
        "  regressor = LinearRegression(n_jobs=-1)\n",
        "  regressor.fit(features, target)\n",
        "  # Predict the values for the validation features.\n",
        "  predictions = regressor.predict(validation_features)\n",
        "  return predictions, regressor"
      ],
      "metadata": {
        "id": "0OaKztaGsiVA"
      },
      "execution_count": null,
      "outputs": []
    },
    {
      "cell_type": "code",
      "source": [
        "# Create one hot encoded vectors for the subject, language and task\n",
        "def create_one_hot_vectors(data):\n",
        "  feature_data = pd.DataFrame()\n",
        "  # Create vectors for the languages.\n",
        "  language_vectors = pd.get_dummies(data['lang_id'])\n",
        "  # Create vectors for the type of task (Google Translate vs. mBART)\n",
        "  task_vectors = pd.get_dummies(data['task_type'])\n",
        "  feature_data = pd.concat([feature_data, language_vectors, task_vectors], axis=1)\n",
        "  return feature_data\n",
        "  "
      ],
      "metadata": {
        "id": "xzkbEEOMWj4C"
      },
      "execution_count": null,
      "outputs": []
    },
    {
      "cell_type": "code",
      "source": [
        "# Determine the proportion of bad tokens compared to the total tokens for each MT-translated sentence.\n",
        "def determine_proportion_bad_tokens(data):\n",
        "  bad_token_proportions = []\n",
        "  bad_tokens = []\n",
        "  for elem in data['mt_wmt22_qe']:\n",
        "    cnt_total = 0\n",
        "    cnt_bad = 0\n",
        "    # Loop over the tags for the MT and count the total and bad tags.\n",
        "    for tag in elem:\n",
        "      cnt_total += 1\n",
        "      if tag == 'BAD':\n",
        "        cnt_bad += 1\n",
        "    # A check, so the model does not break if there is no bad/ok token list.\n",
        "    if cnt_total != 0:\n",
        "      bad_token_proportions.append(cnt_bad/cnt_total)\n",
        "      bad_tokens.append(cnt_bad)\n",
        "    else:\n",
        "      bad_token_proportions.append(0)\n",
        "  return bad_token_proportions, bad_tokens\n"
      ],
      "metadata": {
        "id": "etZ1SnU9eK5t"
      },
      "execution_count": null,
      "outputs": []
    },
    {
      "cell_type": "code",
      "source": [
        "def count_pos(pos):\n",
        "  verbs = 0\n",
        "  for elem in pos:\n",
        "    if elem == 'VERB':\n",
        "      verbs += 1\n",
        "  return verbs\n",
        "\n",
        "def count_verbs(data):\n",
        "  data = data.map(lambda x: {\"verb_counter\": count_pos(x[\"src_upos\"])})\n",
        "  return data\n",
        "\n",
        "data_temp = count_verbs(data_mt)\n",
        "print(data_temp['verb_counter'])"
      ],
      "metadata": {
        "colab": {
          "base_uri": "https://localhost:8080/"
        },
        "id": "QJXbgTY7sfGG",
        "outputId": "91c4fc96-018c-420d-b053-2cbf58abab19"
      },
      "execution_count": null,
      "outputs": [
        {
          "output_type": "stream",
          "name": "stderr",
          "text": [
            "WARNING:datasets.arrow_dataset:Loading cached processed dataset at /root/.cache/huggingface/datasets/GroNLP___divemt/main/1.0.0/c875a08adbd66d5d9c6d8c79f7816092829b41f855641161190c69e19b4f11b1/cache-d23664f3fae65b13.arrow\n"
          ]
        },
        {
          "output_type": "stream",
          "name": "stdout",
          "text": [
            "[3, 4, 4, 4, 2, 1, 3, 5, 5, 2, 4, 2, 4, 2, 5, 2, 3, 1, 3, 2, 4, 3, 2, 3, 4, 5, 4, 7, 0, 4, 2, 3, 3, 3, 1, 1, 1, 1, 2, 1, 5, 4, 2, 2, 5, 2, 2, 4, 3, 1, 2, 2, 5, 4, 1, 3, 3, 1, 3, 1, 3, 4, 4, 2, 2, 1, 1, 2, 3, 2, 3, 3, 2, 3, 1, 2, 1, 3, 0, 0, 2, 0, 3, 1, 1, 2, 5, 3, 3, 4, 3, 4, 0, 2, 3, 1, 3, 2, 1, 9, 3, 0, 1, 2, 2, 2, 4, 3, 4, 3, 2, 0, 4, 4, 3, 4, 2, 2, 4, 2, 1, 5, 0, 2, 3, 1, 2, 3, 3, 1, 0, 2, 0, 2, 3, 2, 2, 2, 3, 7, 1, 3, 1, 4, 1, 2, 2, 4, 2, 3, 3, 5, 3, 2, 3, 2, 3, 5, 3, 1, 3, 2, 3, 2, 3, 0, 3, 4, 1, 2, 2, 1, 2, 2, 4, 5, 5, 0, 1, 2, 2, 1, 3, 1, 1, 3, 2, 3, 3, 2, 3, 4, 3, 3, 2, 1, 1, 1, 0, 1, 3, 2, 2, 4, 4, 3, 3, 5, 4, 5, 2, 2, 2, 5, 1, 2, 1, 2, 3, 2, 3, 2, 3, 2, 4, 7, 1, 5, 1, 2, 2, 2, 4, 2, 1, 1, 2, 3, 1, 2, 1, 2, 2, 4, 2, 3, 2, 4, 3, 3, 2, 2, 4, 1, 2, 3, 4, 0, 6, 1, 3, 1, 3, 6, 1, 1, 2, 2, 2, 5, 1, 3, 4, 1, 3, 2, 3, 2, 5, 1, 3, 5, 2, 4, 3, 3, 4, 3, 3, 2, 5, 2, 1, 1, 1, 5, 2, 2, 3, 1, 7, 5, 4, 7, 0, 3, 1, 2, 4, 2, 3, 3, 3, 5, 2, 2, 1, 1, 1, 1, 2, 4, 3, 1, 4, 1, 3, 1, 1, 3, 4, 4, 1, 3, 3, 1, 1, 3, 0, 1, 3, 1, 2, 3, 2, 3, 1, 1, 1, 3, 3, 2, 3, 1, 2, 1, 1, 2, 4, 1, 2, 5, 3, 3, 4, 2, 0, 4, 3, 4, 2, 7, 1, 5, 2, 1, 9, 3, 4, 3, 4, 4, 4, 4, 3, 5, 3, 4, 2, 3, 2, 2, 1, 5, 0, 2, 1, 2, 3, 4, 1, 1, 2, 3, 4, 1, 0, 1, 0, 1, 1, 1, 1, 1, 2, 2, 4, 3, 1, 1, 8, 2, 1, 1, 4, 3, 2, 3, 3, 2, 3, 4, 5, 3, 2, 3, 3, 3, 2, 2, 1, 1, 3, 1, 1, 1, 0, 2, 1, 2, 5, 0, 1, 2, 0, 3, 0, 1, 2, 2, 5, 3, 4, 3, 2, 3, 3, 3, 2, 3, 2, 2, 4, 4, 2, 3, 3, 4, 5, 2, 2, 2, 2, 2, 3, 5, 1, 2, 2, 2, 3, 4, 5, 5, 3, 1, 3, 1, 1, 3, 1, 4, 2, 4, 7, 1, 5, 3, 2, 2, 4, 3, 2, 6, 2, 1, 1, 2, 6, 2, 3, 4, 2, 2, 4, 2, 3, 4, 3, 2, 5, 2, 2, 4, 1, 2, 6, 2, 1, 3, 1, 1, 3, 2, 2, 2, 5, 1, 3, 4, 1, 3, 2, 3, 2, 5, 3, 4, 4, 4, 2, 2, 4, 3, 3, 5, 2, 4, 2, 4, 4, 3, 3, 3, 1, 3, 2, 1, 1, 1, 5, 4, 3, 2, 3, 4, 2, 2, 3, 1, 7, 3, 1, 2, 2, 7, 1, 5, 1, 5, 4, 2, 2, 4, 1, 3, 2, 2, 5, 1, 1, 3, 4, 3, 1, 3, 4, 4, 1, 3, 0, 1, 3, 2, 2, 1, 1, 1, 1, 3, 1, 3, 0, 1, 1, 2, 4, 0, 2, 0, 3, 1, 4, 2, 0, 0, 2, 3, 1, 3, 0, 1, 2, 2, 2, 3, 2, 0, 4, 4, 4, 4, 4, 3, 5, 3, 4, 2, 3, 2, 3, 4, 2, 2, 4, 1, 2, 3, 4, 3, 1, 2, 1, 1, 2, 3, 3, 1, 0, 2, 3, 4, 1, 0, 0, 2, 3, 2, 1, 0, 1, 2, 2, 3, 7, 1, 3, 1, 4, 1, 1, 1, 3, 1, 1, 8, 2, 2, 3, 3, 1, 1, 4, 5, 3, 2, 5, 3, 1, 3, 2, 4, 5, 3, 2, 3, 3, 3, 0, 3, 4, 1, 1, 3, 1, 1, 2, 2, 4, 5, 1, 0, 2, 1, 2, 0, 3, 0, 1, 2, 2, 1, 3, 1, 1, 2, 5, 3, 4, 3, 2, 3, 4, 1, 1, 1, 0, 1, 2, 3, 3, 4, 2, 2, 3, 3, 3, 5, 4, 2, 2, 3, 4, 5, 5, 3, 1, 2, 3, 1, 3, 1, 2, 3, 2, 3, 1, 3, 1, 4, 3, 2, 2, 4, 1, 2, 2, 2, 4, 3, 2, 6, 6, 2, 3, 4, 2, 3, 1, 2, 1, 2, 2, 4, 3, 3, 4, 3, 2, 5, 3, 4, 0, 6, 6, 2, 1, 3, 1, 1, 3, 1, 1, 3, 2, 3, 6, 1, 1, 2, 4, 3, 3, 3, 1, 3, 2, 1, 1, 1, 5, 2, 2, 3, 1, 7, 3, 1, 2, 2, 7, 1, 5, 1, 5, 4, 2, 2, 4, 3, 1, 4, 1, 3, 2, 2, 5, 1, 1, 3, 4, 3, 1, 3, 4, 4, 1, 3, 0, 1, 3, 1, 2, 3, 2, 3, 1, 1, 1, 3, 3, 2, 3, 1, 2, 1, 1, 2, 4, 1, 2, 5, 3, 3, 4, 3, 4, 2, 1, 9, 3, 4, 3, 4, 4, 4, 4, 3, 5, 3, 4, 2, 3, 2, 3, 4, 2, 2, 4, 1, 2, 3, 4, 1, 1, 2, 3, 3, 1, 0, 2, 0, 2, 3, 2, 2, 2, 3, 7, 1, 3, 1, 4, 1, 1, 1, 3, 1, 1, 8, 2, 2, 3, 3, 5, 3, 2, 3, 2, 3, 5, 3, 1, 3, 2, 3, 2, 3, 4, 5, 3, 0, 3, 4, 1, 2, 2, 1, 1, 3, 1, 1, 1, 0, 2, 1, 2, 0, 3, 0, 1, 2, 2, 1, 3, 1, 1, 2, 5, 3, 4, 3, 2, 3, 3, 3, 2, 3, 2, 2, 4, 4, 2, 3, 3, 4, 2, 2, 3, 5, 1, 2, 2, 2, 3, 4, 5, 5, 3, 1, 2, 3, 2, 3, 2, 3, 1, 3, 1, 4, 3, 2, 2, 4, 3, 2, 6, 6, 2, 3, 4, 2, 3, 1, 2, 1, 2, 2, 4, 3, 3, 2, 2, 4, 1, 2, 6, 2, 1, 3, 1, 1, 3, 1, 3, 6, 1, 1, 2, 2, 2, 5, 1, 5, 2, 2, 3, 2, 5, 1, 3, 5, 2, 4, 3, 3, 3, 4, 1, 3, 2, 3, 2, 5, 3, 4, 4, 4, 2, 1, 3, 5, 5, 2, 4, 2, 4, 2, 5, 2, 1, 1, 1, 5, 4, 3, 2, 3, 4, 2, 2, 3, 1, 7, 5, 4, 7, 0, 4, 2, 3, 3, 3, 5, 2, 2, 1, 1, 1, 1, 2, 4, 3, 1, 2, 2, 5, 4, 1, 3, 3, 1, 1, 3, 0, 1, 3, 2, 2, 1, 1, 1, 1, 3, 1, 1, 2, 4, 0, 2, 0, 3, 1, 4, 2, 0, 0, 2, 3, 1, 3, 2, 1, 9, 3, 0, 1, 2, 2, 2, 3, 2, 0, 4, 4, 4, 4, 4, 3, 5, 3, 4, 2, 3, 2, 2, 1, 5, 0, 2, 1, 2, 3, 4, 3, 1, 2, 3, 3, 1, 0, 2, 3, 4, 1, 0, 0, 2, 3, 2, 1, 0, 1, 1, 1, 1, 1, 2, 2, 4, 1, 1, 4, 2, 3, 3, 3, 2, 3, 3, 2, 3, 4, 5, 3, 2, 3, 3, 3, 0, 3, 4, 1, 1, 3, 1, 1, 2, 2, 4, 5, 5, 0, 1, 2, 1, 0, 2, 1, 2, 0, 3, 0, 1, 2, 2, 5, 3, 4, 3, 2, 3, 4, 1, 1, 1, 0, 1, 3, 2, 2, 4, 4, 5, 2, 2, 2, 2, 2, 3, 3, 3, 5, 4, 2, 2, 3, 4, 1, 3, 1, 1, 3, 1, 4, 2, 4, 7, 1, 5, 1, 2, 2, 2, 4, 2, 1, 1, 2, 2, 4, 2, 3, 2, 4, 3, 3, 4, 3, 2, 5, 3, 4, 0, 6, 1, 3, 1, 1, 3, 2, 2, 2, 5, 1, 1, 3, 0, 5, 5, 3, 3, 4, 1, 3, 2, 3, 4, 4, 4, 2, 2, 4, 3, 3, 5, 2, 4, 2, 4, 4, 3, 3, 2, 5, 2, 3, 1, 3, 2, 4, 3, 2, 3, 4, 5, 4, 7, 0, 3, 1, 2, 4, 2, 3, 3, 3, 2, 7, 1, 5, 1, 5, 4, 2, 2, 1, 1, 1, 1, 2, 4, 1, 3, 1, 1, 3, 4, 4, 1, 3, 3, 1, 3, 1, 3, 4, 4, 2, 2, 1, 1, 2, 3, 2, 3, 3, 2, 3, 1, 2, 1, 3, 0, 0, 2, 0, 3, 1, 1, 2, 5, 3, 3, 4, 2, 0, 4, 3, 4, 0, 2, 3, 1, 3, 0, 1, 2, 2, 2, 4, 3, 4, 3, 4, 2, 2, 4, 2, 1, 5, 0, 2, 3, 1, 2, 1, 1, 2, 3, 4, 1, 0, 1, 0, 1, 2, 2, 3, 7, 1, 3, 1, 4, 1, 2, 2, 4, 3, 1, 1, 8, 2, 1, 1, 4, 5, 3, 2, 5, 3, 1, 3, 2, 2, 3, 3, 3, 2, 2, 1, 2, 2, 4, 5, 5, 0, 1, 2, 2, 1, 3, 1, 1, 3, 2, 3, 3, 2, 3, 4, 3, 3, 2, 1, 1, 1, 0, 1, 2, 3, 3, 4, 5, 2, 2, 2, 3, 3, 5, 4, 5, 1, 2, 1, 2, 3, 1, 3, 1, 2, 3, 2, 3, 2, 4, 7, 1, 5, 3, 2, 2, 4, 1, 2, 2, 2, 4, 3, 2, 6, 2, 1, 1, 2, 6, 2, 3, 4, 2, 3, 1, 2, 1, 2, 2, 4, 2, 3, 4, 3, 2, 5, 2, 2, 4, 1, 2, 3, 4, 0, 6, 6, 2, 1, 3, 1, 1, 3, 2, 3, 6, 1, 1, 2, 3, 2, 0, 4, 4, 3, 4, 4, 4, 2, 2, 4, 3, 3, 5, 2, 4, 2, 4, 2, 5, 2, 1, 1, 1, 5, 4, 3, 2, 3, 4, 2, 2, 3, 1, 7, 2, 7, 1, 5, 5, 2, 2, 3, 1, 2, 4, 2, 3, 3, 3, 1, 1, 1, 1, 2, 4, 3, 1, 2, 2, 5, 1, 1, 3, 4, 4, 1, 3, 3, 1, 3, 1, 3, 4, 4, 2, 2, 1, 1, 1, 1, 3, 1, 1, 2, 4, 0, 2, 0, 3, 1, 4, 3, 4, 1, 2, 5, 3, 3, 0, 2, 3, 1, 3, 0, 1, 2, 2, 2, 3, 2, 0, 4, 4, 2, 1, 9, 3, 4, 4, 4, 3, 5, 3, 4, 2, 2, 4, 2, 1, 5, 0, 2, 3, 1, 2, 3, 3, 1, 0, 2, 0, 2, 3, 2, 1, 3, 1, 4, 1, 1, 1, 1, 2, 2, 4, 3, 1, 1, 8, 2, 1, 1, 4, 5, 3, 2, 3, 2, 3, 5, 3, 1, 3, 2, 3, 2, 3, 2, 3, 3, 3, 2, 2, 1, 4, 5, 3, 2, 2, 4, 5, 1, 0, 2, 1, 2, 0, 3, 0, 1, 2, 2, 5, 3, 4, 3, 2, 3, 3, 2, 3, 4, 3, 3, 2, 1, 1, 1, 0, 1, 2, 3, 3, 4, 2, 2, 3, 5, 1, 2, 1, 2, 3, 1, 3, 1, 2, 3, 2, 3, 1, 3, 1, 4, 3, 2, 2, 4, 1, 2, 2, 2, 4, 2, 1, 1, 2, 6, 2, 3, 4, 2, 3, 1, 2, 1, 2, 2, 4, 2, 3, 2, 4, 3, 3, 4, 3, 2, 5, 3, 4, 0, 6, 1, 3, 1, 1, 3, 2, 2, 2, 5, 1, 3, 4, 1, 3, 2, 3, 2, 5, 1, 3, 5, 2, 4, 3, 3, 4, 3, 3, 3, 1, 3, 2, 1, 1, 1, 5, 2, 2, 3, 1, 7, 5, 4, 7, 0, 4, 2, 3, 3, 3, 5, 2, 2, 1, 5, 4, 2, 2, 4, 1, 3, 1, 1, 3, 4, 3, 1, 3, 4, 4, 1, 3, 0, 1, 3, 2, 2, 1, 1, 2, 3, 2, 3, 1, 1, 1, 3, 1, 3, 0, 3, 2, 3, 1, 2, 0, 2, 0, 3, 1, 4, 2, 0, 4, 3, 4, 2, 1, 9, 3, 3, 2, 0, 4, 4, 4, 3, 4, 3, 4, 2, 3, 2, 4, 4, 4, 3, 5, 2, 1, 5, 0, 2, 1, 2, 3, 4, 1, 1, 2, 3, 3, 1, 0, 2, 3, 4, 1, 0, 1, 0, 1, 2, 2, 3, 7, 1, 1, 1, 3, 1, 1, 8, 2, 2, 3, 3, 5, 3, 2, 5, 3, 1, 3, 2, 4, 5, 3, 2, 3, 3, 3, 0, 3, 4, 1, 1, 3, 1, 1, 1, 0, 2, 1, 2, 5, 0, 1, 2, 0, 3, 0, 1, 2, 2, 1, 3, 1, 1, 2, 5, 3, 4, 3, 3, 2, 3, 2, 2, 4, 4, 5, 2, 2, 2, 3, 3, 5, 4, 5, 1, 2, 2, 2, 3, 4, 5, 5, 3, 1, 3, 1, 1, 3, 1, 4, 2, 4, 7, 1, 5, 1, 2, 2, 2, 4, 3, 2, 6, 6, 2, 3, 4, 2, 2, 4, 3, 3, 2, 2, 4, 1, 2, 6, 2, 1, 3, 1, 1, 3, 1, 3, 6, 1, 1, 2, 2, 2, 5, 1, 3, 4, 1, 3, 2, 3, 2, 5, 3, 4, 4, 4, 2, 1, 3, 5, 5, 2, 4, 2, 4, 4, 3, 3, 2, 5, 2, 3, 1, 3, 2, 4, 3, 2, 3, 4, 5, 4, 7, 0, 3, 1, 2, 2, 7, 1, 5, 1, 5, 4, 2, 2, 1, 1, 1, 1, 2, 4, 3, 1, 4, 1, 3, 2, 2, 5, 4, 1, 3, 3, 1, 1, 3, 0, 1, 3, 1, 2, 3, 2, 3, 3, 2, 3, 1, 2, 1, 3, 0, 1, 1, 2, 4, 1, 2, 5, 3, 3, 4, 2, 0, 0, 2, 3, 1, 3, 0, 1, 2, 2, 2, 4, 3, 4, 3, 4, 2, 3, 2, 3, 4, 2, 2, 4, 1, 2, 3, 4, 3, 1, 2, 1, 1, 2, 3, 4, 1, 0, 0, 2, 3, 2, 1, 0, 1, 2, 2, 3, 7, 1, 2, 2, 4, 1, 3, 1, 4, 2, 3, 3, 1, 1, 4, 3, 2, 3, 3, 2, 3, 0, 3, 4, 1, 2, 2, 1, 1, 3, 1, 1, 2, 2, 4, 5, 5, 0, 1, 2, 2, 1, 3, 1, 1, 3, 2, 3, 3, 2, 3, 4, 1, 1, 1, 0, 1, 3, 2, 2, 4, 4, 2, 3, 3, 4, 5, 2, 2, 2, 2, 2, 3, 3, 3, 5, 4, 2, 2, 3, 4, 5, 5, 3, 1, 2, 3, 2, 3, 2, 3, 2, 4, 7, 1, 5, 3, 2, 2, 4, 3, 2, 6, 2, 1, 1, 2, 3, 1, 2, 1, 2, 2, 4, 2, 3, 4, 3, 2, 5, 2, 2, 4, 1, 2, 3, 4, 0, 6, 6, 2, 1, 3, 1, 1, 3, 2, 3, 6, 1, 1, 2, 1, 1, 1, 5, 2, 2, 3, 1, 7, 4, 3, 2, 3, 4, 5, 4, 7, 0, 4, 2, 3, 3, 3, 5, 2, 2, 1, 5, 4, 2, 2, 1, 1, 1, 1, 2, 4, 3, 1, 4, 1, 3, 1, 1, 3, 4, 1, 3, 0, 1, 3, 4, 1, 3, 3, 1, 1, 2, 3, 2, 3, 2, 2, 1, 1, 1, 1, 3, 1, 1, 2, 4, 0, 2, 0, 3, 1, 1, 2, 5, 3, 3, 4, 3, 4, 2, 1, 9, 3, 4, 3, 4, 3, 2, 0, 4, 4, 4, 4, 4, 3, 5, 3, 4, 2, 3, 2, 3, 4, 2, 2, 4, 1, 2, 3, 4, 1, 1, 2, 3, 4, 1, 0, 0, 2, 3, 2, 2, 2, 3, 7, 1, 3, 1, 4, 1, 2, 2, 4, 2, 3, 3, 5, 3, 2, 5, 3, 1, 3, 2, 3, 2, 3, 2, 3, 3, 3, 0, 3, 4, 1, 2, 2, 1, 2, 2, 4, 5, 5, 0, 1, 2, 0, 3, 0, 1, 2, 2, 1, 3, 1, 1, 3, 2, 3, 3, 2, 3, 4, 1, 1, 1, 0, 1, 2, 3, 3, 4, 5, 2, 2, 2, 2, 2, 3, 5, 1, 2, 2, 2, 3, 4, 5, 5, 3, 1, 2, 3, 2, 3, 2, 3, 2, 4, 7, 1, 5, 1, 2, 2, 2, 4, 3, 2, 6, 2, 1, 1, 2, 2, 4, 2, 3, 2, 4, 3, 3, 2, 2, 4, 1, 2, 6, 2, 1, 3, 1, 1, 3, 2, 2, 2, 5, 1, 3, 2, 5, 1, 3, 5, 5, 2, 4, 2, 4, 4, 3, 3, 2, 5, 2, 3, 2, 5, 3, 4, 4, 4, 2, 3, 4, 1, 3, 2, 2, 4, 3, 3, 5, 2, 4, 2, 4, 2, 5, 2, 3, 1, 3, 2, 1, 1, 1, 5, 2, 2, 3, 1, 7, 3, 1, 2, 4, 2, 3, 3, 3, 2, 7, 1, 5, 5, 2, 2, 1, 1, 1, 1, 2, 2, 2, 5, 1, 1, 3, 4, 3, 1, 3, 4, 4, 1, 3, 0, 1, 3, 1, 2, 3, 2, 3, 3, 2, 3, 1, 2, 1, 3, 0, 1, 1, 2, 4, 1, 2, 5, 3, 3, 4, 2, 0, 0, 2, 3, 1, 3, 0, 1, 2, 2, 2, 3, 2, 0, 4, 4, 3, 4, 2, 2, 4, 2, 1, 5, 0, 2, 3, 1, 2, 1, 1, 2, 3, 3, 1, 0, 2, 3, 4, 1, 0, 1, 0, 1, 2, 2, 3, 7, 1, 1, 1, 3, 1, 1, 8, 2, 2, 3, 3, 1, 1, 4, 3, 2, 3, 3, 2, 3, 4, 5, 3, 0, 3, 4, 1, 1, 3, 1, 1, 1, 0, 2, 1, 2, 5, 0, 1, 2, 2, 1, 3, 1, 1, 2, 5, 3, 4, 3, 2, 3, 4, 3, 3, 2, 1, 1, 1, 0, 1, 3, 2, 2, 4, 4, 5, 2, 2, 2, 3, 3, 5, 4, 2, 2, 3, 4, 5, 5, 3, 1, 3, 1, 1, 3, 1, 4, 3, 2, 2, 4, 3, 2, 6, 6, 2, 3, 4, 2, 3, 1, 2, 1, 2, 2, 4, 2, 3, 4, 3, 2, 5, 3, 4, 0, 6, 1, 3, 1, 1, 3, 2, 3, 6, 1, 1, 2, 3, 4, 1, 3, 2, 3, 4, 4, 4, 2, 1, 3, 5, 2, 4, 3, 3, 4, 3, 3, 3, 1, 3, 2, 4, 3, 2, 3, 4, 5, 4, 7, 0, 3, 1, 2, 2, 7, 1, 5, 1, 5, 4, 2, 2, 4, 3, 1, 4, 1, 3, 2, 2, 5, 4, 1, 3, 3, 1, 3, 1, 3, 4, 4, 2, 2, 1, 3, 2, 3, 1, 2, 1, 1, 1, 3, 1, 3, 0, 0, 2, 0, 3, 1, 4, 2, 0, 4, 3, 4, 0, 2, 3, 1, 3, 2, 1, 9, 3, 0, 1, 2, 2, 2, 4, 3, 4, 4, 4, 4, 3, 5, 3, 4, 2, 3, 2, 2, 1, 5, 0, 2, 1, 2, 3, 4, 3, 1, 2, 3, 3, 1, 0, 2, 1, 0, 1, 0, 2, 3, 2, 1, 3, 1, 4, 1, 1, 1, 1, 2, 2, 4, 3, 1, 1, 8, 2, 1, 1, 4, 5, 3, 2, 3, 2, 3, 5, 3, 1, 3, 2, 4, 5, 3, 2, 3, 3, 3, 2, 2, 1, 1, 3, 1, 1, 2, 2, 4, 5, 1, 0, 2, 1, 2, 0, 3, 0, 1, 2, 2, 5, 3, 4, 3, 2, 3, 3, 3, 2, 3, 2, 2, 4, 4, 2, 3, 3, 4, 2, 2, 3, 3, 3, 5, 4, 5, 1, 2, 1, 2, 3, 1, 3, 1, 2, 3, 2, 3, 1, 3, 1, 4, 2, 4, 7, 1, 5, 3, 2, 2, 4, 1, 2, 2, 2, 4, 2, 1, 1, 2, 6, 2, 3, 4, 2, 3, 1, 2, 1, 2, 2, 4, 3, 3, 4, 3, 2, 5, 2, 2, 4, 1, 2, 3, 4, 0, 6, 6, 2, 1, 3, 1, 1, 3, 1, 3, 6, 1, 1, 2, 2, 2, 5, 1, 3, 2, 5, 3, 4, 4, 4, 2, 1, 3, 5, 2, 4, 3, 3, 5, 2, 4, 2, 4, 4, 3, 3, 2, 5, 2, 3, 1, 3, 2, 2, 2, 3, 1, 7, 5, 4, 7, 0, 3, 1, 2, 2, 7, 1, 5, 5, 2, 2, 1, 5, 4, 2, 2, 1, 1, 1, 1, 2, 4, 3, 1, 2, 2, 5, 1, 1, 3, 4, 3, 1, 3, 4, 4, 2, 2, 1, 1, 1, 1, 3, 1, 3, 0, 1, 1, 2, 4, 0, 2, 0, 3, 1, 4, 2, 0, 0, 2, 3, 1, 3, 0, 1, 2, 2, 2, 4, 3, 4, 3, 4, 2, 3, 2, 3, 4, 2, 2, 4, 2, 1, 5, 0, 2, 3, 1, 2, 1, 1, 2, 3, 3, 1, 0, 2, 3, 4, 1, 0, 1, 0, 1, 2, 2, 3, 7, 1, 1, 1, 1, 2, 2, 4, 3, 1, 1, 8, 2, 2, 3, 3, 1, 1, 4, 5, 3, 2, 5, 3, 1, 3, 2, 3, 2, 3, 4, 5, 3, 0, 3, 4, 1, 2, 2, 1, 2, 2, 4, 5, 5, 0, 1, 2, 2, 1, 3, 1, 1, 2, 5, 3, 4, 3, 3, 2, 1, 1, 1, 0, 1, 3, 2, 2, 4, 4, 2, 3, 3, 4, 5, 2, 2, 2, 2, 2, 3, 3, 3, 5, 4, 2, 2, 3, 4, 5, 5, 3, 1, 2, 3, 2, 3, 2, 3, 1, 3, 1, 4, 3, 2, 2, 4, 1, 2, 2, 2, 4, 2, 1, 1, 2, 6, 2, 3, 4, 2, 2, 4, 3, 3, 2, 2, 4, 1, 2, 3, 4, 0, 6, 1, 3, 1, 1, 3, 2, 2, 2, 5, 1, 3, 4, 1, 3, 2, 3, 2, 5, 1, 3, 5, 5, 2, 4, 2, 4, 2, 5, 2, 1, 1, 1, 5, 4, 3, 2, 3, 4, 5, 4, 7, 0, 4, 2, 3, 3, 3, 2, 7, 1, 5, 1, 5, 4, 2, 2, 4, 1, 3, 1, 1, 3, 4, 4, 1, 3, 3, 1, 3, 1, 3, 4, 4, 1, 3, 0, 1, 3, 2, 2, 1, 1, 2, 3, 2, 3, 3, 2, 3, 1, 2, 1, 3, 0, 0, 2, 0, 3, 1, 1, 2, 5, 3, 3, 4, 2, 0, 4, 3, 4, 0, 2, 3, 1, 3, 2, 1, 9, 3, 3, 2, 0, 4, 4, 4, 3, 4, 4, 4, 4, 3, 5, 3, 4, 2, 2, 4, 1, 2, 3, 4, 1, 1, 2, 3, 4, 1, 0, 2, 2, 3, 7, 1, 3, 1, 4, 1, 2, 2, 4, 2, 3, 3, 5, 3, 2, 3, 2, 3, 3, 2, 3, 2, 3, 3, 3, 1, 3, 1, 1, 2, 2, 4, 5, 1, 0, 2, 1, 2, 0, 3, 0, 1, 2, 2, 5, 3, 4, 3, 2, 3, 3, 2, 3, 4, 3, 3, 2, 3, 2, 2, 4, 4, 5, 2, 2, 2, 3, 3, 5, 4, 5, 1, 2, 1, 3, 1, 1, 3, 1, 4, 2, 4, 7, 1, 5, 1, 2, 2, 2, 4, 3, 2, 6, 2, 1, 1, 2, 4, 3, 2, 5, 2, 2, 4, 1, 2, 6, 2, 1, 3, 1, 1, 3, 2, 3, 6, 1, 1, 2, 2, 2, 5, 1, 1, 2, 3, 3, 1, 2, 1, 2, 2, 4, 2, 3, 0, 3, 4, 1, 0, 2, 3, 2, 3, 4, 1, 3, 2, 3, 4, 4, 4, 2, 2, 4, 3, 3, 4, 3, 3, 1, 1, 1, 5, 4, 3, 2, 3, 4, 2, 2, 3, 1, 7, 3, 1, 2, 4, 2, 3, 3, 3, 5, 2, 2, 1, 1, 1, 1, 2, 4, 3, 1, 4, 1, 3, 2, 2, 5, 4, 1, 3, 3, 1, 1, 3, 0, 1, 3, 1, 2, 3, 2, 3, 1, 1, 1, 3, 3, 2, 3, 1, 2, 1, 1, 2, 4, 1, 2, 5, 3, 3, 4, 3, 4, 3, 2, 0, 4, 4, 4, 4, 4, 3, 5, 3, 4, 2, 3, 2, 0, 1, 2, 2, 2, 2, 1, 9, 3, 2, 1, 5, 0, 2, 1, 2, 3, 4, 3, 1, 2, 3, 3, 1, 0, 2, 1, 0, 1, 1, 3, 1, 4, 1, 1, 1, 3, 1, 1, 8, 2, 1, 1, 4, 3, 2, 3, 5, 3, 1, 3, 2, 4, 5, 3, 2, 3, 3, 3, 2, 2, 1, 1, 3, 1, 1, 1, 0, 2, 1, 2, 5, 0, 1, 2, 0, 3, 0, 1, 2, 2, 1, 3, 1, 1, 3, 2, 3, 3, 2, 3, 4, 1, 1, 1, 0, 1, 2, 3, 3, 4, 2, 2, 3, 5, 1, 2, 2, 2, 3, 4, 5, 5, 3, 1, 3, 1, 2, 3, 2, 3, 2, 4, 7, 1, 5, 3, 2, 2, 4, 3, 2, 6, 6, 2, 3, 4, 2, 3, 1, 2, 1, 2, 2, 4, 2, 3, 2, 4, 3, 3, 4, 3, 2, 5, 3, 4, 0, 6, 6, 2, 1, 3, 1, 1, 3, 1, 3, 6, 1, 1, 2, 3, 1, 3, 2, 0, 2, 3, 2, 3, 2, 5, 3, 4, 4, 4, 2, 2, 4, 3, 3, 5, 2, 4, 2, 4, 2, 5, 2, 3, 1, 3, 2, 1, 1, 1, 5, 2, 2, 3, 1, 7, 5, 4, 7, 0, 4, 2, 3, 3, 3, 2, 7, 1, 5, 1, 5, 4, 2, 2, 4, 3, 1, 4, 1, 3, 2, 2, 5, 1, 1, 3, 4, 3, 1, 3, 4, 4, 1, 3, 0, 1, 3, 1, 2, 3, 2, 3, 1, 1, 1, 3, 3, 2, 3, 1, 2, 1, 3, 0, 1, 1, 2, 4, 1, 2, 5, 3, 3, 4, 3, 4, 0, 2, 3, 1, 3, 0, 1, 2, 2, 2, 3, 2, 0, 4, 4, 4, 4, 4, 3, 5, 3, 4, 2, 2, 4, 1, 2, 3, 4, 1, 1, 2, 3, 3, 1, 0, 2, 0, 2, 3, 2, 2, 2, 3, 7, 1, 3, 1, 4, 1, 1, 1, 1, 2, 2, 4, 2, 3, 3, 1, 1, 4, 5, 3, 2, 3, 2, 3, 0, 3, 4, 1, 2, 2, 1, 2, 2, 4, 5, 5, 0, 1, 2, 6, 2, 1, 3, 1, 1, 3, 1, 3, 6, 1, 1, 2, 0, 3, 0, 1, 2, 2, 1, 3, 1, 1, 2, 5, 3, 4, 3, 2, 3, 3, 2, 3, 4, 1, 1, 1, 0, 1, 2, 3, 3, 4, 5, 2, 2, 2, 2, 2, 3, 5, 1, 2, 5, 5, 3, 1, 2, 3, 1, 3, 1, 1, 3, 1, 4, 3, 2, 2, 4, 1, 2, 2, 2, 4, 3, 2, 6, 6, 2, 3, 4, 2, 2, 4, 2, 3, 2, 4, 3, 3, 2, 2, 4, 1, 2, 3, 2, 3, 3, 4, 1, 3, 2, 3, 4, 4, 4, 2, 1, 3, 5, 5, 2, 4, 2, 4, 4, 3, 3, 2, 5, 2, 1, 1, 1, 5, 4, 3, 2, 3, 4, 2, 2, 3, 1, 7, 3, 1, 2, 4, 2, 3, 3, 3, 5, 2, 2, 1, 1, 1, 1, 2, 4, 3, 1, 2, 2, 5, 4, 1, 3, 3, 1, 1, 3, 0, 1, 3, 2, 2, 1, 1, 2, 3, 2, 3, 3, 2, 3, 1, 2, 0, 2, 0, 3, 1, 4, 2, 0, 0, 2, 3, 1, 3, 2, 1, 9, 3, 0, 1, 2, 2, 2, 4, 3, 4, 3, 2, 0, 4, 4, 4, 4, 4, 3, 5, 3, 4, 2, 3, 2, 3, 4, 2, 2, 4, 2, 1, 5, 0, 2, 3, 1, 2, 1, 1, 2, 3, 4, 1, 0, 1, 0, 1, 1, 3, 1, 4, 1, 2, 2, 4, 3, 1, 1, 8, 2, 1, 1, 4, 3, 2, 3, 5, 3, 1, 3, 2, 3, 2, 3, 4, 5, 3, 2, 3, 3, 3, 0, 3, 4, 1, 1, 3, 1, 1, 2, 2, 4, 5, 1, 0, 2, 1, 2, 0, 3, 0, 1, 2, 2, 5, 3, 4, 3, 2, 3, 3, 3, 2, 1, 1, 1, 0, 1, 3, 2, 2, 4, 4, 5, 2, 2, 2, 3, 3, 5, 4, 2, 2, 3, 4, 1, 3, 1, 2, 3, 2, 3, 1, 3, 1, 4, 2, 4, 7, 1, 5, 3, 2, 2, 4, 3, 2, 6, 2, 1, 1, 2, 3, 1, 2, 1, 2, 2, 4, 2, 3, 4, 3, 2, 5, 3, 4, 0, 6, 6, 2, 1, 3, 1, 1, 3, 2, 3, 6, 1, 1, 2, 2, 2, 5, 1, 3, 4, 1, 3, 2, 3, 2, 5, 1, 3, 5, 2, 4, 3, 3, 4, 3, 3, 3, 1, 3, 2, 4, 3, 2, 3, 4, 5, 4, 7, 0, 3, 1, 2, 2, 7, 1, 5, 5, 2, 2, 1, 5, 4, 2, 2, 1, 1, 1, 1, 2, 4, 1, 3, 1, 1, 3, 4, 4, 1, 3, 3, 1, 3, 1, 3, 4, 4, 2, 2, 1, 1, 1, 1, 3, 1, 3, 0, 1, 1, 2, 4, 0, 2, 0, 3, 1, 1, 2, 5, 3, 3, 4, 2, 0, 4, 3, 4, 2, 1, 9, 3, 4, 3, 4, 3, 4, 2, 3, 2, 2, 1, 5, 0, 2, 1, 2, 3, 4, 3, 1, 2, 3, 3, 1, 0, 2, 3, 4, 1, 0, 0, 2, 3, 2, 1, 0, 1, 2, 2, 3, 7, 1, 1, 1, 3, 1, 1, 8, 2, 2, 3, 3, 5, 3, 2, 5, 3, 1, 3, 2, 4, 5, 3, 2, 3, 3, 3, 2, 2, 1, 1, 3, 1, 1, 5, 0, 1, 2, 1, 0, 2, 1, 2, 2, 1, 3, 1, 1, 3, 3, 2, 3, 2, 2, 4, 4, 2, 3, 3, 4, 2, 2, 3, 3, 3, 5, 4, 5, 1, 2, 2, 2, 3, 4, 5, 5, 3, 1, 2, 3, 2, 3, 2, 3, 2, 4, 7, 1, 5, 1, 2, 2, 2, 4, 2, 1, 1, 2, 6, 2, 3, 4, 2, 3, 1, 2, 1, 2, 2, 4, 3, 3, 4, 3, 2, 5, 2, 2, 4, 1, 2, 3, 4, 0, 6, 1, 3, 1, 1, 3, 2, 2, 2, 5, 1, 3, 2, 3, 4]\n"
          ]
        }
      ]
    },
    {
      "cell_type": "code",
      "source": [
        "# Determine what the complexity of a sentence is by counting the number of unique POS tags.\n",
        "def complexity_pos(pos):\n",
        "  complexity = len(np.unique(pos))\n",
        "  return complexity\n",
        "\n",
        "def count_complexity(data):\n",
        "  data = data.map(lambda x: {\"complexity\": complexity_pos(x[\"src_upos\"])})\n",
        "  return data\n",
        "\n",
        "data_temp = count_complexity(data_mt)\n",
        "print(data_temp['complexity'])"
      ],
      "metadata": {
        "colab": {
          "base_uri": "https://localhost:8080/"
        },
        "id": "bMySULbwq6-_",
        "outputId": "01edb26f-9cc6-42af-cbcf-c531943bda5e"
      },
      "execution_count": null,
      "outputs": [
        {
          "output_type": "stream",
          "name": "stderr",
          "text": [
            "WARNING:datasets.arrow_dataset:Loading cached processed dataset at /root/.cache/huggingface/datasets/GroNLP___divemt/main/1.0.0/c875a08adbd66d5d9c6d8c79f7816092829b41f855641161190c69e19b4f11b1/cache-f92a7a8a04bcc04f.arrow\n"
          ]
        },
        {
          "output_type": "stream",
          "name": "stdout",
          "text": [
            "[10, 8, 11, 12, 9, 9, 10, 12, 11, 10, 9, 10, 10, 8, 10, 9, 10, 13, 11, 10, 11, 10, 9, 11, 10, 8, 10, 11, 9, 11, 10, 10, 9, 9, 8, 10, 8, 11, 9, 9, 11, 11, 8, 9, 11, 10, 9, 10, 8, 8, 9, 7, 10, 10, 9, 9, 8, 9, 9, 7, 10, 10, 8, 10, 8, 9, 10, 8, 10, 11, 13, 10, 7, 12, 8, 8, 8, 12, 5, 9, 9, 7, 10, 10, 8, 8, 10, 10, 10, 9, 11, 12, 9, 8, 10, 9, 8, 11, 12, 12, 9, 7, 12, 9, 10, 9, 9, 10, 9, 12, 10, 8, 10, 11, 10, 12, 9, 10, 9, 9, 8, 10, 10, 8, 9, 9, 8, 10, 11, 10, 8, 9, 7, 11, 10, 10, 10, 8, 10, 11, 11, 11, 10, 10, 9, 12, 11, 11, 9, 13, 9, 9, 9, 9, 9, 8, 7, 11, 11, 10, 9, 9, 7, 8, 10, 7, 10, 11, 7, 9, 11, 10, 11, 10, 12, 14, 10, 7, 9, 9, 9, 7, 10, 9, 8, 9, 13, 11, 10, 10, 9, 11, 9, 11, 9, 11, 10, 10, 9, 12, 11, 6, 8, 10, 9, 10, 13, 12, 12, 9, 8, 10, 11, 10, 10, 10, 8, 8, 10, 11, 11, 6, 10, 8, 10, 11, 8, 10, 10, 7, 12, 11, 11, 8, 8, 6, 10, 8, 9, 8, 11, 7, 13, 9, 11, 8, 8, 10, 12, 9, 12, 6, 9, 7, 7, 9, 12, 9, 12, 10, 11, 8, 10, 7, 9, 10, 10, 9, 12, 12, 9, 10, 11, 9, 11, 8, 12, 11, 11, 9, 10, 12, 7, 10, 12, 12, 11, 10, 11, 8, 10, 9, 7, 8, 9, 10, 9, 9, 10, 10, 10, 8, 10, 11, 9, 10, 8, 9, 11, 10, 10, 9, 9, 11, 10, 9, 8, 10, 8, 11, 9, 10, 8, 8, 9, 10, 10, 9, 9, 13, 11, 10, 9, 9, 8, 9, 9, 10, 7, 5, 11, 10, 8, 10, 11, 13, 8, 8, 10, 12, 10, 7, 12, 8, 8, 11, 9, 6, 10, 8, 8, 10, 10, 10, 11, 11, 7, 9, 11, 12, 8, 10, 9, 12, 11, 12, 12, 9, 9, 10, 9, 11, 9, 13, 11, 14, 10, 7, 8, 8, 11, 9, 8, 10, 10, 8, 10, 10, 8, 11, 8, 8, 10, 9, 10, 11, 8, 10, 7, 6, 8, 8, 11, 9, 12, 11, 11, 10, 10, 11, 11, 9, 7, 7, 12, 9, 8, 7, 7, 8, 10, 12, 11, 10, 9, 11, 11, 10, 9, 11, 10, 8, 10, 8, 8, 8, 9, 8, 10, 10, 10, 7, 9, 9, 9, 9, 8, 9, 8, 10, 10, 10, 12, 9, 13, 11, 9, 11, 9, 11, 6, 8, 10, 9, 11, 10, 10, 11, 9, 8, 10, 11, 9, 10, 9, 10, 10, 10, 10, 11, 10, 10, 10, 12, 10, 8, 8, 8, 8, 11, 6, 12, 8, 10, 11, 8, 10, 12, 9, 9, 6, 9, 9, 11, 8, 8, 6, 10, 13, 11, 8, 9, 10, 13, 9, 11, 8, 9, 11, 11, 12, 12, 6, 9, 7, 7, 13, 8, 9, 7, 7, 7, 10, 9, 9, 12, 12, 9, 10, 11, 9, 11, 8, 12, 11, 11, 10, 8, 11, 12, 9, 7, 10, 12, 12, 11, 10, 9, 10, 10, 11, 10, 11, 10, 13, 11, 10, 7, 8, 9, 10, 11, 10, 9, 11, 10, 9, 9, 10, 10, 10, 10, 8, 9, 8, 10, 9, 12, 9, 11, 11, 8, 9, 9, 10, 10, 9, 7, 10, 9, 9, 13, 11, 9, 7, 10, 10, 8, 9, 10, 7, 5, 11, 10, 8, 9, 8, 8, 10, 12, 8, 12, 5, 11, 9, 6, 10, 9, 9, 7, 10, 10, 11, 11, 7, 9, 8, 10, 9, 8, 7, 12, 9, 10, 9, 12, 10, 8, 10, 11, 11, 9, 13, 11, 14, 10, 7, 8, 8, 11, 10, 12, 9, 10, 9, 10, 10, 8, 11, 9, 9, 8, 8, 8, 10, 10, 11, 10, 8, 9, 9, 10, 11, 8, 7, 11, 10, 10, 10, 7, 6, 10, 8, 10, 11, 11, 11, 10, 10, 8, 8, 11, 10, 10, 11, 11, 9, 9, 13, 9, 7, 7, 12, 9, 9, 9, 11, 11, 10, 9, 9, 12, 11, 10, 9, 11, 11, 10, 7, 10, 11, 7, 8, 10, 8, 8, 11, 10, 12, 14, 8, 9, 8, 10, 10, 9, 9, 8, 9, 8, 9, 7, 10, 9, 8, 10, 10, 10, 12, 10, 10, 9, 11, 11, 10, 10, 9, 12, 11, 10, 10, 11, 9, 10, 9, 10, 13, 12, 12, 10, 11, 10, 10, 10, 12, 10, 8, 8, 10, 8, 8, 8, 11, 11, 6, 10, 8, 11, 6, 12, 12, 9, 9, 6, 10, 7, 12, 11, 11, 9, 9, 11, 13, 11, 8, 9, 10, 8, 9, 8, 11, 7, 8, 10, 12, 9, 9, 11, 11, 12, 9, 12, 9, 12, 13, 8, 9, 7, 7, 10, 11, 8, 7, 10, 9, 10, 7, 9, 10, 10, 11, 10, 11, 10, 13, 11, 10, 7, 8, 9, 10, 9, 9, 10, 10, 10, 10, 8, 9, 8, 10, 9, 12, 9, 11, 11, 8, 9, 10, 8, 8, 9, 10, 10, 9, 7, 10, 9, 9, 13, 11, 9, 7, 10, 10, 8, 9, 10, 7, 5, 11, 10, 8, 10, 11, 13, 8, 8, 10, 12, 10, 7, 12, 8, 8, 11, 9, 6, 10, 8, 8, 10, 10, 10, 9, 11, 12, 11, 12, 12, 9, 9, 10, 9, 11, 9, 13, 11, 14, 10, 7, 8, 8, 11, 10, 12, 9, 10, 9, 10, 10, 8, 11, 8, 8, 10, 10, 11, 10, 8, 9, 7, 11, 10, 10, 10, 8, 10, 11, 11, 11, 10, 10, 8, 8, 11, 10, 10, 11, 11, 9, 9, 13, 9, 9, 9, 9, 9, 8, 7, 11, 11, 10, 9, 9, 7, 8, 10, 12, 11, 10, 7, 10, 11, 7, 9, 11, 10, 8, 10, 8, 8, 8, 9, 8, 10, 10, 9, 9, 8, 9, 8, 9, 7, 10, 9, 8, 10, 10, 10, 12, 9, 13, 11, 9, 11, 9, 11, 6, 8, 10, 9, 11, 10, 10, 11, 9, 10, 9, 10, 10, 10, 10, 11, 10, 10, 10, 12, 10, 8, 8, 10, 11, 11, 6, 10, 8, 11, 6, 12, 12, 9, 9, 6, 9, 9, 11, 13, 11, 8, 9, 10, 8, 9, 8, 11, 7, 8, 10, 12, 9, 12, 6, 9, 7, 7, 13, 8, 9, 7, 7, 10, 11, 8, 10, 7, 9, 10, 10, 9, 12, 12, 9, 11, 10, 9, 12, 11, 11, 9, 10, 12, 7, 10, 12, 12, 10, 11, 9, 11, 8, 12, 11, 11, 10, 8, 11, 12, 9, 9, 10, 12, 11, 10, 9, 10, 10, 8, 10, 9, 7, 8, 9, 10, 11, 10, 9, 11, 10, 9, 9, 10, 10, 10, 8, 10, 11, 9, 11, 10, 10, 9, 9, 11, 10, 9, 8, 10, 8, 11, 9, 10, 8, 8, 9, 7, 10, 10, 9, 9, 8, 9, 9, 10, 7, 5, 11, 10, 8, 9, 8, 8, 10, 12, 11, 9, 6, 10, 9, 9, 7, 10, 10, 11, 11, 7, 9, 8, 10, 9, 8, 11, 12, 12, 9, 7, 12, 9, 10, 9, 12, 10, 8, 10, 11, 11, 9, 13, 11, 14, 10, 7, 8, 8, 11, 9, 8, 10, 10, 8, 10, 10, 8, 11, 9, 9, 8, 10, 11, 10, 8, 9, 9, 10, 11, 8, 7, 11, 10, 10, 10, 7, 6, 8, 8, 11, 9, 12, 11, 11, 7, 7, 12, 9, 13, 9, 9, 8, 7, 7, 8, 10, 12, 11, 10, 9, 11, 11, 10, 7, 10, 11, 7, 8, 10, 8, 8, 11, 10, 12, 14, 10, 7, 9, 9, 8, 9, 8, 10, 10, 9, 9, 8, 9, 8, 10, 10, 10, 12, 10, 10, 9, 11, 11, 10, 10, 9, 12, 11, 6, 8, 10, 9, 9, 8, 10, 11, 9, 10, 9, 10, 13, 12, 12, 10, 11, 10, 10, 8, 8, 8, 8, 11, 6, 12, 8, 10, 11, 8, 10, 10, 7, 12, 11, 11, 8, 8, 6, 10, 13, 9, 11, 8, 8, 10, 12, 9, 9, 11, 11, 12, 9, 12, 9, 12, 10, 11, 8, 7, 10, 9, 9, 12, 12, 9, 8, 12, 5, 10, 12, 10, 10, 11, 9, 11, 8, 10, 8, 11, 12, 9, 7, 10, 12, 12, 11, 10, 9, 10, 10, 11, 10, 11, 8, 10, 9, 10, 13, 11, 10, 11, 10, 9, 11, 10, 8, 10, 11, 9, 10, 8, 9, 11, 10, 10, 9, 9, 8, 10, 9, 12, 9, 11, 11, 8, 9, 8, 10, 8, 11, 9, 9, 10, 10, 9, 9, 13, 11, 10, 9, 9, 8, 9, 9, 7, 10, 10, 8, 10, 8, 9, 10, 8, 10, 11, 13, 10, 7, 12, 8, 8, 8, 12, 5, 9, 9, 7, 10, 10, 8, 8, 10, 10, 10, 11, 11, 7, 9, 11, 12, 9, 8, 10, 9, 8, 7, 12, 9, 10, 9, 9, 10, 9, 10, 12, 9, 10, 9, 9, 8, 10, 10, 8, 9, 9, 8, 8, 8, 10, 9, 10, 11, 8, 10, 7, 6, 10, 8, 10, 11, 11, 11, 10, 10, 9, 12, 11, 11, 10, 10, 11, 11, 9, 7, 7, 12, 9, 9, 9, 11, 11, 10, 9, 9, 9, 11, 11, 10, 9, 11, 10, 11, 10, 12, 14, 10, 7, 9, 9, 9, 7, 10, 9, 8, 9, 13, 11, 10, 10, 9, 11, 9, 11, 9, 11, 10, 10, 9, 12, 11, 10, 10, 11, 9, 8, 10, 11, 10, 13, 12, 12, 10, 10, 10, 8, 8, 10, 8, 8, 8, 11, 11, 6, 10, 8, 10, 11, 8, 10, 12, 9, 9, 6, 10, 7, 12, 11, 11, 9, 9, 11, 8, 8, 6, 10, 13, 11, 8, 9, 10, 8, 9, 8, 11, 7, 13, 9, 11, 8, 9, 11, 11, 12, 12, 6, 9, 7, 7, 9, 12, 9, 12, 13, 8, 9, 7, 7, 7, 10, 9, 10, 7, 9, 10, 10, 12, 10, 8, 10, 11, 10, 8, 11, 12, 9, 7, 10, 12, 12, 11, 10, 9, 10, 10, 8, 10, 9, 7, 8, 9, 10, 11, 10, 9, 11, 10, 9, 9, 10, 10, 10, 8, 10, 9, 12, 11, 10, 9, 10, 8, 9, 11, 10, 10, 9, 9, 8, 10, 8, 11, 9, 10, 8, 8, 9, 7, 10, 9, 9, 13, 11, 10, 9, 9, 8, 9, 9, 7, 10, 10, 8, 10, 8, 9, 8, 8, 10, 12, 11, 9, 6, 10, 9, 9, 7, 10, 10, 9, 11, 12, 8, 8, 10, 10, 10, 9, 8, 10, 9, 8, 7, 12, 9, 10, 9, 12, 10, 8, 10, 11, 11, 12, 12, 9, 11, 9, 13, 11, 14, 10, 12, 9, 10, 9, 9, 8, 10, 10, 8, 9, 9, 8, 10, 11, 10, 8, 9, 7, 11, 10, 10, 11, 11, 10, 10, 8, 8, 11, 9, 12, 11, 11, 10, 10, 11, 11, 9, 7, 7, 12, 9, 9, 9, 9, 8, 7, 11, 11, 10, 9, 9, 7, 8, 10, 9, 11, 11, 10, 9, 11, 10, 12, 11, 10, 11, 10, 12, 14, 8, 9, 8, 10, 10, 9, 9, 8, 9, 8, 10, 10, 10, 12, 9, 13, 11, 10, 10, 9, 11, 9, 11, 9, 11, 10, 10, 9, 12, 11, 10, 10, 11, 9, 10, 9, 10, 10, 10, 8, 8, 10, 8, 8, 8, 11, 11, 6, 10, 8, 11, 6, 12, 12, 9, 9, 6, 10, 7, 12, 11, 11, 8, 8, 6, 10, 13, 11, 8, 9, 10, 8, 9, 8, 11, 7, 13, 9, 11, 8, 8, 10, 12, 9, 9, 11, 11, 12, 9, 12, 9, 12, 10, 11, 8, 7, 10, 9, 9, 12, 12, 9, 10, 11, 9, 11, 8, 12, 11, 11, 9, 10, 12, 7, 10, 12, 12, 11, 10, 11, 10, 13, 11, 10, 7, 8, 9, 10, 9, 9, 10, 10, 10, 8, 10, 11, 9, 11, 10, 10, 9, 9, 11, 10, 9, 9, 11, 11, 8, 9, 9, 10, 10, 9, 9, 13, 11, 9, 7, 10, 10, 8, 9, 10, 7, 5, 11, 10, 8, 9, 10, 8, 10, 11, 13, 8, 8, 10, 12, 8, 12, 5, 10, 7, 12, 8, 8, 9, 9, 7, 10, 10, 11, 11, 7, 9, 11, 12, 11, 12, 12, 9, 12, 10, 8, 10, 11, 9, 10, 9, 10, 7, 8, 8, 11, 11, 9, 13, 11, 14, 9, 8, 10, 10, 8, 10, 10, 8, 11, 8, 8, 10, 10, 11, 10, 8, 9, 9, 10, 11, 8, 10, 7, 6, 10, 8, 10, 11, 8, 8, 11, 10, 10, 11, 11, 9, 9, 13, 9, 9, 9, 9, 11, 11, 10, 9, 9, 12, 11, 10, 9, 11, 11, 10, 7, 10, 11, 7, 8, 10, 8, 8, 8, 9, 8, 10, 10, 10, 7, 9, 9, 9, 9, 8, 9, 8, 9, 7, 10, 9, 8, 10, 10, 10, 12, 9, 11, 9, 11, 6, 8, 10, 9, 9, 8, 10, 11, 10, 13, 12, 12, 10, 10, 10, 10, 11, 10, 10, 10, 12, 10, 8, 8, 8, 8, 11, 6, 12, 8, 10, 11, 8, 10, 10, 7, 12, 11, 11, 9, 9, 11, 13, 11, 8, 9, 10, 8, 10, 12, 9, 12, 6, 9, 7, 7, 13, 8, 9, 7, 7, 10, 11, 8, 10, 7, 9, 10, 10, 9, 12, 12, 9, 10, 11, 9, 11, 8, 12, 11, 11, 10, 8, 11, 12, 9, 9, 10, 12, 11, 10, 9, 10, 10, 11, 10, 11, 8, 10, 9, 10, 13, 11, 10, 11, 10, 9, 11, 10, 8, 10, 11, 9, 10, 8, 9, 8, 10, 9, 12, 9, 11, 11, 8, 9, 8, 10, 8, 11, 9, 10, 8, 8, 9, 10, 10, 9, 7, 10, 10, 9, 9, 8, 9, 9, 10, 7, 5, 11, 10, 8, 10, 11, 13, 10, 7, 12, 8, 8, 8, 12, 5, 11, 9, 6, 10, 8, 8, 10, 10, 10, 11, 11, 7, 9, 8, 10, 9, 8, 7, 12, 9, 10, 9, 9, 10, 9, 10, 7, 8, 8, 11, 10, 12, 9, 10, 9, 10, 10, 8, 11, 9, 9, 8, 8, 8, 10, 9, 10, 11, 8, 7, 11, 10, 10, 10, 7, 6, 10, 8, 10, 11, 9, 12, 11, 11, 11, 11, 10, 10, 9, 13, 9, 7, 7, 12, 9, 8, 7, 7, 8, 10, 7, 10, 11, 7, 9, 11, 10, 8, 10, 8, 8, 11, 10, 12, 14, 10, 7, 9, 9, 9, 7, 10, 9, 8, 9, 13, 11, 10, 10, 9, 11, 11, 10, 10, 9, 12, 11, 6, 8, 10, 9, 11, 10, 10, 11, 9, 8, 10, 11, 9, 10, 9, 10, 13, 12, 12, 10, 11, 10, 10, 10, 12, 10, 8, 8, 10, 11, 11, 6, 10, 8, 10, 11, 8, 10, 12, 9, 9, 6, 9, 9, 11, 8, 8, 6, 10, 8, 9, 8, 11, 7, 13, 9, 11, 8, 9, 11, 11, 12, 12, 6, 9, 7, 7, 9, 12, 9, 12, 13, 8, 9, 7, 7, 7, 10, 9, 10, 7, 9, 10, 10, 7, 8, 9, 10, 9, 9, 10, 10, 10, 11, 10, 9, 11, 10, 8, 10, 11, 9, 11, 10, 10, 9, 9, 11, 10, 9, 9, 11, 11, 8, 9, 8, 10, 8, 11, 9, 10, 8, 8, 9, 10, 10, 9, 9, 13, 11, 9, 10, 7, 5, 11, 10, 9, 9, 8, 9, 10, 8, 10, 11, 13, 10, 8, 9, 8, 8, 10, 12, 11, 9, 6, 10, 9, 9, 7, 10, 10, 8, 8, 10, 10, 10, 9, 11, 12, 11, 12, 12, 9, 9, 10, 9, 12, 10, 8, 10, 11, 11, 9, 13, 11, 14, 10, 7, 8, 8, 11, 10, 12, 9, 10, 9, 10, 10, 8, 11, 8, 8, 10, 9, 10, 11, 8, 7, 11, 10, 10, 10, 8, 10, 11, 11, 11, 10, 10, 9, 12, 11, 11, 9, 13, 9, 9, 9, 9, 11, 11, 10, 9, 9, 7, 8, 10, 9, 11, 11, 10, 7, 10, 11, 7, 9, 11, 10, 11, 10, 12, 14, 10, 7, 9, 9, 9, 9, 8, 9, 8, 9, 7, 10, 9, 8, 9, 13, 11, 10, 10, 9, 11, 11, 10, 10, 9, 12, 11, 10, 10, 11, 9, 8, 10, 11, 9, 10, 9, 10, 10, 10, 10, 11, 10, 10, 10, 12, 10, 8, 8, 10, 11, 11, 6, 10, 8, 10, 11, 8, 10, 10, 7, 12, 11, 11, 9, 9, 11, 8, 8, 6, 10, 13, 9, 11, 8, 8, 10, 12, 9, 12, 6, 9, 7, 7, 13, 8, 9, 7, 7, 7, 10, 9, 9, 12, 12, 9, 12, 11, 11, 9, 10, 12, 11, 10, 9, 10, 10, 11, 10, 11, 8, 10, 9, 12, 11, 11, 10, 8, 11, 12, 9, 10, 11, 9, 11, 8, 7, 10, 12, 12, 11, 10, 9, 10, 10, 8, 10, 9, 10, 13, 11, 10, 7, 8, 9, 10, 9, 9, 10, 10, 10, 10, 8, 9, 11, 10, 10, 9, 9, 8, 10, 9, 12, 11, 10, 9, 8, 10, 8, 11, 9, 9, 7, 10, 9, 9, 13, 11, 9, 7, 10, 10, 8, 9, 10, 7, 5, 11, 10, 8, 10, 11, 13, 10, 7, 12, 8, 8, 8, 12, 5, 11, 9, 6, 10, 8, 8, 10, 10, 10, 11, 11, 7, 9, 8, 10, 9, 8, 7, 12, 9, 10, 9, 12, 10, 8, 10, 11, 10, 12, 9, 10, 9, 9, 8, 10, 10, 8, 9, 9, 8, 8, 8, 10, 10, 11, 10, 8, 9, 9, 10, 11, 8, 10, 7, 6, 10, 8, 10, 11, 8, 8, 11, 10, 10, 11, 11, 9, 9, 13, 9, 7, 7, 12, 9, 8, 7, 7, 8, 10, 12, 11, 10, 7, 10, 11, 7, 8, 10, 8, 8, 8, 9, 8, 10, 10, 10, 7, 9, 9, 9, 7, 10, 9, 8, 10, 10, 10, 12, 10, 10, 9, 11, 9, 11, 9, 11, 10, 10, 9, 12, 11, 6, 8, 10, 9, 9, 8, 10, 11, 10, 13, 12, 12, 10, 11, 10, 10, 10, 12, 10, 8, 8, 8, 8, 11, 6, 12, 12, 9, 9, 6, 9, 9, 11, 13, 11, 8, 9, 10, 8, 9, 8, 11, 7, 13, 9, 11, 8, 9, 11, 11, 12, 9, 12, 9, 12, 10, 11, 8, 7, 10, 9, 10, 7, 9, 10, 10, 10, 11, 9, 11, 8, 10, 8, 11, 12, 9, 9, 10, 12, 7, 10, 12, 12, 11, 10, 11, 10, 13, 11, 10, 11, 10, 9, 11, 10, 8, 10, 11, 9, 10, 8, 9, 8, 10, 9, 12, 9, 11, 11, 8, 9, 10, 8, 8, 9, 10, 10, 9, 7, 10, 10, 9, 9, 8, 9, 9, 7, 10, 10, 8, 10, 8, 9, 10, 7, 12, 8, 8, 8, 8, 10, 12, 8, 12, 5, 9, 9, 7, 10, 10, 11, 11, 7, 9, 11, 12, 9, 8, 10, 9, 8, 11, 12, 12, 9, 7, 12, 9, 10, 9, 9, 10, 9, 11, 9, 13, 11, 14, 10, 7, 8, 8, 11, 9, 8, 10, 10, 8, 10, 10, 8, 11, 9, 9, 8, 10, 11, 10, 8, 9, 10, 7, 6, 7, 11, 10, 10, 11, 11, 10, 10, 8, 8, 11, 9, 12, 11, 11, 10, 10, 11, 11, 9, 7, 7, 12, 9, 9, 9, 9, 8, 7, 11, 11, 10, 9, 9, 12, 11, 10, 9, 11, 11, 10, 9, 11, 10, 8, 10, 8, 8, 11, 10, 12, 14, 8, 9, 8, 10, 10, 9, 9, 8, 9, 8, 10, 10, 10, 12, 9, 13, 11, 9, 11, 9, 11, 6, 8, 10, 9, 11, 10, 10, 11, 9, 10, 9, 10, 13, 12, 12, 10, 10, 10, 8, 8, 10, 8, 8, 8, 11, 11, 6, 10, 8, 11, 6, 12, 8, 10, 11, 8, 10, 12, 9, 9, 6, 10, 7, 12, 11, 11, 8, 8, 6, 10, 13, 11, 8, 9, 10, 8, 9, 8, 11, 7, 8, 10, 12, 9, 9, 11, 11, 12, 12, 6, 9, 7, 7, 9, 12, 9, 12, 13, 8, 9, 7, 7, 10, 11, 8, 10, 7, 9, 10, 10, 9, 12, 12, 9, 12, 11, 11, 10, 8, 11, 12, 9, 9, 10, 12, 7, 10, 12, 12, 11, 10, 9, 10, 10, 11, 10, 11, 8, 10, 9, 10, 13, 11, 10, 9, 9, 10, 10, 10, 8, 10, 11, 9, 10, 8, 9, 8, 10, 9, 12, 11, 10, 9, 9, 11, 11, 8, 9, 8, 10, 8, 11, 9, 10, 8, 8, 9, 7, 10, 9, 9, 13, 11, 9, 7, 10, 10, 8, 10, 8, 9, 8, 8, 10, 12, 8, 12, 5, 11, 9, 6, 10, 9, 9, 7, 10, 10, 11, 11, 7, 9, 8, 10, 9, 8, 7, 12, 9, 10, 9, 9, 10, 9, 10, 7, 8, 8, 11, 10, 12, 9, 10, 9, 9, 8, 10, 10, 8, 9, 9, 8, 8, 8, 10, 10, 11, 10, 8, 9, 9, 10, 11, 8, 10, 7, 6, 10, 8, 10, 11, 8, 8, 11, 9, 12, 11, 11, 10, 10, 11, 11, 9, 9, 13, 9, 7, 7, 12, 9, 9, 9, 11, 11, 10, 9, 9, 7, 8, 10, 12, 11, 10, 7, 10, 11, 7, 9, 11, 10, 11, 10, 12, 14, 10, 7, 9, 9, 9, 7, 10, 9, 8, 10, 10, 10, 12, 9, 11, 9, 11, 10, 10, 9, 12, 11, 6, 8, 10, 9, 11, 10, 10, 11, 9, 8, 10, 11, 9, 10, 9, 10, 13, 12, 12, 10, 11, 10, 10, 10, 12, 10, 8, 8, 10, 11, 11, 6, 10, 8, 11, 6, 12, 12, 9, 9, 6, 10, 7, 12, 11, 11, 8, 8, 6, 10, 13, 11, 8, 9, 10, 8, 10, 12, 9, 12, 6, 9, 7, 7, 9, 12, 9, 12, 10, 11, 8, 7, 10, 9, 9, 12, 12, 9, 10, 11, 9, 11, 8, 12, 11, 11, 9, 10, 12, 11, 10, 9, 10, 10, 8, 10, 9, 7, 8, 9, 10, 11, 10, 9, 11, 10, 8, 10, 11, 9, 11, 10, 10, 9, 9, 8, 10, 9, 12, 9, 11, 11, 8, 9, 9, 10, 10, 9, 9, 13, 11, 10, 9, 9, 8, 9, 9, 7, 10, 10, 8, 9, 10, 7, 5, 11, 10, 8, 9, 10, 8, 10, 11, 13, 10, 7, 12, 8, 8, 8, 12, 5, 9, 9, 7, 10, 10, 8, 8, 10, 10, 10, 11, 11, 7, 9, 11, 12, 9, 8, 10, 9, 8, 11, 12, 12, 9, 12, 10, 8, 10, 11, 9, 10, 9, 11, 9, 13, 11, 14, 10, 12, 9, 10, 9, 10, 10, 8, 11, 8, 8, 10, 9, 10, 11, 8, 10, 8, 10, 11, 11, 11, 10, 10, 9, 12, 11, 11, 9, 13, 9, 9, 9, 9, 9, 8, 7, 7, 8, 10, 9, 11, 11, 10, 8, 10, 8, 8, 11, 10, 12, 14, 8, 9, 8, 10, 10, 9, 9, 8, 9, 8, 10, 10, 10, 12, 9, 13, 11, 10, 10, 9, 11, 9, 11, 9, 11, 6, 8, 10, 9, 9, 8, 10, 11, 10, 13, 12, 12, 10, 10, 10, 8, 8, 8, 8, 11, 6, 12, 8, 10, 11, 8, 10, 10, 7, 12, 11, 11, 9, 9, 11, 8, 8, 6, 10, 9, 11, 11, 12, 12, 6, 9, 7, 7, 13, 8, 9, 7, 7, 7, 10, 9, 10, 7, 9, 10, 10, 9, 12, 12, 9, 8, 8, 10, 8, 9, 8, 11, 7, 13, 9, 11, 8, 7, 10, 11, 7, 7, 11, 10, 10, 10, 11, 9, 11, 8, 10, 8, 11, 12, 9, 7, 10, 12, 12, 11, 10, 11, 7, 8, 9, 10, 11, 10, 9, 11, 10, 9, 9, 10, 10, 10, 10, 8, 9, 11, 10, 10, 9, 9, 11, 10, 9, 8, 10, 8, 11, 9, 10, 8, 8, 9, 10, 10, 9, 7, 10, 10, 9, 9, 8, 9, 9, 10, 7, 5, 11, 10, 8, 10, 11, 13, 8, 8, 10, 12, 10, 7, 12, 8, 8, 11, 9, 6, 10, 8, 8, 10, 10, 10, 9, 11, 12, 12, 10, 8, 10, 11, 11, 9, 13, 11, 14, 10, 7, 8, 8, 11, 7, 12, 9, 10, 9, 11, 12, 12, 9, 9, 8, 10, 10, 8, 10, 10, 8, 11, 9, 9, 8, 10, 11, 10, 8, 9, 10, 7, 6, 11, 11, 10, 10, 8, 8, 11, 10, 10, 11, 11, 9, 7, 7, 12, 9, 8, 7, 11, 11, 10, 9, 9, 12, 11, 10, 9, 11, 11, 10, 9, 11, 10, 8, 10, 8, 8, 8, 9, 8, 10, 10, 10, 7, 9, 9, 9, 9, 8, 9, 8, 9, 7, 10, 9, 8, 9, 13, 11, 10, 10, 9, 11, 11, 10, 10, 9, 12, 11, 10, 10, 11, 9, 10, 9, 10, 10, 10, 10, 11, 10, 10, 10, 12, 10, 8, 8, 8, 11, 11, 6, 10, 8, 10, 11, 8, 10, 12, 9, 9, 6, 9, 9, 11, 13, 11, 8, 9, 10, 8, 9, 8, 11, 7, 13, 9, 11, 8, 8, 10, 12, 9, 9, 11, 11, 12, 9, 12, 9, 12, 13, 8, 9, 7, 7, 10, 11, 8, 10, 7, 9, 10, 10, 10, 13, 11, 10, 7, 11, 10, 10, 12, 11, 11, 10, 8, 11, 12, 9, 7, 10, 12, 12, 11, 10, 9, 10, 10, 8, 10, 9, 10, 13, 11, 10, 7, 8, 9, 10, 9, 9, 10, 10, 10, 8, 10, 11, 9, 11, 10, 10, 9, 9, 8, 10, 9, 12, 9, 11, 11, 8, 9, 10, 8, 8, 9, 10, 10, 9, 7, 10, 9, 9, 13, 11, 9, 7, 10, 10, 8, 9, 10, 7, 5, 11, 10, 8, 10, 11, 13, 8, 8, 10, 12, 10, 7, 12, 8, 8, 8, 12, 5, 11, 9, 6, 10, 8, 8, 10, 10, 10, 9, 11, 12, 9, 8, 10, 9, 8, 7, 12, 9, 10, 9, 12, 10, 8, 10, 11, 11, 9, 13, 11, 14, 10, 12, 9, 10, 9, 10, 10, 8, 11, 8, 8, 10, 10, 11, 10, 8, 9, 7, 11, 10, 10, 10, 8, 10, 11, 11, 11, 10, 10, 8, 8, 11, 9, 12, 11, 11, 9, 13, 9, 7, 7, 12, 9, 9, 9, 9, 8, 7, 7, 10, 11, 7, 9, 11, 10, 11, 10, 12, 14, 10, 7, 9, 9, 13, 8, 9, 7, 7, 10, 11, 8, 10, 7, 9, 10, 10, 9, 9, 8, 9, 8, 9, 7, 10, 9, 8, 10, 10, 10, 12, 9, 13, 11, 10, 10, 9, 11, 11, 10, 10, 9, 12, 11, 10, 10, 11, 9, 8, 10, 11, 9, 10, 9, 10, 10, 10, 10, 12, 10, 8, 8, 10, 8, 8, 8, 8, 11, 6, 12, 12, 9, 9, 6, 10, 7, 12, 11, 11, 9, 9, 11, 13, 11, 8, 9, 10, 13, 9, 11, 8, 8, 10, 12, 9, 12, 6, 9, 7, 7, 7, 8, 10, 10, 11, 9, 11, 8, 10, 8, 11, 12, 9, 9, 10, 12, 11, 10, 9, 10, 10, 11, 10, 11, 8, 10, 9, 7, 8, 9, 10, 11, 10, 9, 11, 10, 9, 9, 10, 10, 10, 10, 8, 9, 11, 10, 10, 9, 9, 11, 10, 9, 8, 10, 8, 11, 9, 10, 8, 8, 9, 7, 10, 10, 9, 9, 8, 9, 9, 10, 7, 5, 11, 10, 8, 9, 10, 8, 10, 11, 13, 10, 7, 12, 8, 8, 9, 9, 7, 10, 10, 11, 11, 7, 9, 8, 10, 9, 8, 11, 12, 12, 9, 7, 12, 9, 10, 9, 9, 10, 9, 12, 10, 8, 10, 11, 11, 9, 13, 11, 14, 10, 7, 8, 8, 11, 10, 12, 9, 10, 9, 9, 8, 10, 10, 8, 9, 9, 8, 8, 8, 10, 9, 10, 11, 8, 10, 7, 6, 11, 11, 10, 10, 9, 12, 11, 11, 10, 10, 11, 11, 9, 7, 7, 12, 9, 8, 7, 11, 11, 10, 9, 9, 7, 8, 10, 12, 11, 10, 9, 11, 11, 10, 7, 10, 11, 7, 8, 10, 8, 8, 11, 10, 12, 14, 8, 9, 8, 10, 10, 9, 9, 8, 9, 8, 10, 10, 10, 12, 9, 13, 11, 9, 11, 9, 11, 10, 10, 9, 12, 11, 6, 8, 10, 9, 9, 8, 10, 11, 10, 13, 12, 12, 10, 11, 10, 10, 8, 8, 8, 11, 11, 6, 10, 8, 11, 6, 12, 8, 10, 11, 8, 10, 12, 9, 9, 6, 9, 9, 11, 8, 8, 6, 10, 8, 9, 8, 11, 7, 13, 9, 11, 8, 9, 11, 11, 12, 9, 12, 9, 12, 13, 8, 9, 7, 7, 7, 10, 9, 10, 7, 9, 10, 10, 9, 12, 12, 9, 10, 11, 9, 11, 8, 12, 11, 11, 9, 10, 12, 7, 10, 12, 12, 11, 10, 11, 10, 13, 11, 10, 11, 10, 9, 11, 10, 8, 10, 11, 9, 10, 8, 9, 8, 10, 9, 12, 11, 10, 9, 9, 11, 11, 8, 9, 8, 10, 8, 11, 9, 9, 10, 10, 9, 9, 13, 11, 10, 9, 9, 8, 9, 9, 7, 10, 10, 8, 10, 8, 9, 8, 8, 10, 12, 8, 12, 5, 11, 9, 6, 10, 9, 9, 7, 10, 10, 8, 8, 10, 10, 10, 11, 11, 7, 9, 11, 12, 11, 12, 12, 9, 9, 10, 9, 10, 7, 8, 8, 11, 9, 8, 10, 10, 8, 10, 10, 8, 11, 9, 9, 8, 10, 11, 10, 8, 9, 9, 10, 11, 8, 7, 11, 10, 10, 10, 7, 6, 10, 8, 10, 11, 8, 8, 11, 10, 10, 11, 11, 9, 9, 13, 9, 9, 9, 9, 11, 11, 10, 9, 9, 12, 11, 10, 9, 11, 11, 10, 9, 11, 10, 8, 10, 8, 8, 10, 7, 9, 9, 8, 9, 8, 10, 10, 9, 7, 10, 9, 8, 9, 11, 9, 11, 6, 8, 10, 9, 11, 10, 10, 11, 9, 10, 9, 10, 13, 12, 12, 10, 10, 10, 10, 11, 10, 10, 10, 12, 10, 8, 8, 10, 11, 11, 6, 10, 8, 10, 11, 8, 10, 10, 7, 12, 11, 11, 8, 8, 6, 10, 13, 11, 8, 9, 10, 8, 9, 8, 11, 7, 8, 10, 12, 9, 9, 11, 11, 12, 12, 6, 9, 7, 7, 9, 12, 9, 12, 10, 11, 8, 7, 10, 9, 9, 12, 12, 9, 10, 10, 9, 11]\n"
          ]
        }
      ]
    },
    {
      "cell_type": "code",
      "source": [
        "# Format a feature dataset, so that all strings are one-hot encoded vectors and \n",
        "# all other relevant fields are added\n",
        "def create_feature_data(data):\n",
        "  feature_data = create_one_hot_vectors(data)\n",
        "  src_len_wrd_df = pd.DataFrame(data['src_len_wrd'], columns = ['src_len_wrd'])\n",
        "  k_total_df = pd.DataFrame(data['k_total'], columns = ['k_total'])\n",
        "  feature_data = pd.concat([feature_data, src_len_wrd_df, k_total_df], axis=1)\n",
        "  bad_token_proportions, bad_tokens = determine_proportion_bad_tokens(data)\n",
        "  bad_token_df = pd.DataFrame(bad_token_proportions, columns = ['bad_token_proportions'])\n",
        "  feature_data = pd.concat([feature_data, bad_token_df], axis=1)\n",
        "  return feature_data, bad_tokens\n",
        "\n",
        "full_features, bad_tokens = create_feature_data(data_mt)\n",
        "edit_time_df = pd.DataFrame(data_mt['edit_time'], columns = ['edit_time'])\n",
        "full_features = pd.concat([full_features, edit_time_df], axis = 1)\n",
        "print(full_features)"
      ],
      "metadata": {
        "id": "-fc9IxVUXrVZ",
        "colab": {
          "base_uri": "https://localhost:8080/"
        },
        "outputId": "eeb050cd-b556-47e8-afe9-95c66e5be943"
      },
      "execution_count": null,
      "outputs": [
        {
          "output_type": "stream",
          "name": "stdout",
          "text": [
            "      ara  ita  nld  tur  ukr  vie  pe1  pe2  src_len_wrd  k_total  \\\n",
            "0       0    0    0    1    0    0    1    0           21       50   \n",
            "1       0    0    0    1    0    0    1    0           22        1   \n",
            "2       0    0    0    1    0    0    1    0           22       69   \n",
            "3       0    0    0    1    0    0    1    0           22       85   \n",
            "4       0    0    0    1    0    0    1    0           15      109   \n",
            "...   ...  ...  ...  ...  ...  ...  ...  ...          ...      ...   \n",
            "5155    1    0    0    0    0    0    1    0           20        8   \n",
            "5156    1    0    0    0    0    0    0    1           19       92   \n",
            "5157    1    0    0    0    0    0    0    1           14      110   \n",
            "5158    1    0    0    0    0    0    0    1           19      162   \n",
            "5159    1    0    0    0    0    0    0    1           25      102   \n",
            "\n",
            "      bad_token_proportions   edit_time  \n",
            "0                  0.240000   18.135000  \n",
            "1                  0.000000    7.469000  \n",
            "2                  0.294118   28.256001  \n",
            "3                  0.380952   35.672001  \n",
            "4                  0.666667   27.431000  \n",
            "...                     ...         ...  \n",
            "5155               0.000000   14.137000  \n",
            "5156               0.200000  122.169998  \n",
            "5157               0.187500   58.584000  \n",
            "5158               0.318182  138.244003  \n",
            "5159               0.071429   66.929001  \n",
            "\n",
            "[5160 rows x 12 columns]\n"
          ]
        }
      ]
    },
    {
      "cell_type": "code",
      "source": [
        "# Predict the editing time using the linear model and a base model.\n",
        "def predict_editing_time(train, test):\n",
        "  features = train.drop(['edit_time'], axis=1)\n",
        "  target = train['edit_time']\n",
        "  test_features = test.drop(['edit_time'], axis=1)\n",
        "  test_target = test['edit_time']\n",
        "  # Do the baseline and linear regressor predictions.\n",
        "  base_predict, baseline = baseline_prediction(features, target, test_features)\n",
        "  regressor_predict, regressor = regressor_prediction(features, target, test_features)\n",
        "  # Compute the metrics for the models.\n",
        "  for metric in [mean_absolute_error, mean_squared_error]:\n",
        "    print(\"Linear regressor\", metric.__name__, metric(test_target, regressor_predict))\n",
        "    print(\"Baseline\", metric.__name__, metric(test_target, base_predict))\n",
        "  MAE_regressor = mean_absolute_error(test_target, regressor_predict)\n",
        "  MAE_baseline = mean_absolute_error(test_target, base_predict)\n",
        "  return baseline, regressor, MAE_regressor, MAE_baseline"
      ],
      "metadata": {
        "id": "0V6OhlQ-t_Ad"
      },
      "execution_count": null,
      "outputs": []
    },
    {
      "cell_type": "code",
      "source": [
        "# Printing the coefficients for all features in order to determine their relevance.\n",
        "def determine_feature_importance(regressor):\n",
        "  labels = regressor.feature_names_in_\n",
        "  coefs = [regressor.coef_[i] for i in range(len(labels))]\n",
        "  labels_df = pd.DataFrame(labels, columns = ['labels'])\n",
        "  coefs_df = pd.DataFrame(coefs, columns = ['coefs'])\n",
        "  feature_importance = pd.concat([labels_df, coefs_df], axis=1)\n",
        "  print(feature_importance)\n",
        "  return "
      ],
      "metadata": {
        "id": "jRybEOEhoS1X"
      },
      "execution_count": null,
      "outputs": []
    },
    {
      "cell_type": "code",
      "source": [
        "# Run all the relevant parts for creating the linear model in one go.\n",
        "def full_run():\n",
        "  data = load_data()\n",
        "  data_mt = remove_ht(data)\n",
        "  full_features, bad_tokens = create_feature_data(data_mt)\n",
        "  data_mt = count_verbs(data_mt)\n",
        "  data_mt = count_complexity(data_mt)\n",
        "  verbs_df = pd.DataFrame(data_mt['verb_counter'], columns = ['verb_counter'])\n",
        "  complexity_df = pd.DataFrame(data_mt['complexity'], columns = ['complexity'])\n",
        "  edit_time_df = pd.DataFrame(data_mt['edit_time'], columns = ['edit_time'])\n",
        "  full_features = pd.concat([full_features, verbs_df, complexity_df, edit_time_df], axis = 1)\n",
        "  print(full_features)\n",
        "  kf = KFold(n_splits=5, shuffle = True)\n",
        "  MAE_regressor_list = []\n",
        "  MAE_baseline_list = []\n",
        "  for train, test in kf.split(full_features):\n",
        "    baseline, regressor, MAE_regressor, MAE_baseline = predict_editing_time(full_features.iloc[train], full_features.iloc[test])\n",
        "    MAE_regressor_list.append(MAE_regressor)\n",
        "    MAE_baseline_list.append(MAE_baseline)\n",
        "    determine_feature_importance(regressor)\n",
        "  print(MAE_regressor_list)\n",
        "  print(np.mean(MAE_regressor_list))\n",
        "  print(np.std(MAE_regressor_list))\n",
        "  print(MAE_baseline_list)\n",
        "  print(np.mean(MAE_baseline_list))\n",
        "  print(np.std(MAE_baseline_list))\n",
        "  return\n",
        "\n",
        "full_run()"
      ],
      "metadata": {
        "colab": {
          "base_uri": "https://localhost:8080/"
        },
        "id": "ZWEpArSWZJ8h",
        "outputId": "995db00b-ebd7-46c2-e3c8-ab3bcd0c0c6d"
      },
      "execution_count": null,
      "outputs": [
        {
          "output_type": "stream",
          "name": "stderr",
          "text": [
            "WARNING:datasets.builder:No config specified, defaulting to: divemt/main\n",
            "WARNING:datasets.builder:Found cached dataset divemt (/root/.cache/huggingface/datasets/GroNLP___divemt/main/1.0.0/c875a08adbd66d5d9c6d8c79f7816092829b41f855641161190c69e19b4f11b1)\n",
            "WARNING:datasets.arrow_dataset:Loading cached processed dataset at /root/.cache/huggingface/datasets/GroNLP___divemt/main/1.0.0/c875a08adbd66d5d9c6d8c79f7816092829b41f855641161190c69e19b4f11b1/cache-12ec80e0cca815fd.arrow\n",
            "WARNING:datasets.arrow_dataset:Loading cached processed dataset at /root/.cache/huggingface/datasets/GroNLP___divemt/main/1.0.0/c875a08adbd66d5d9c6d8c79f7816092829b41f855641161190c69e19b4f11b1/cache-dc2f1b8ae6c005ac.arrow\n",
            "WARNING:datasets.arrow_dataset:Loading cached processed dataset at /root/.cache/huggingface/datasets/GroNLP___divemt/main/1.0.0/c875a08adbd66d5d9c6d8c79f7816092829b41f855641161190c69e19b4f11b1/cache-571ac46cb403c244.arrow\n",
            "WARNING:datasets.arrow_dataset:Loading cached processed dataset at /root/.cache/huggingface/datasets/GroNLP___divemt/main/1.0.0/c875a08adbd66d5d9c6d8c79f7816092829b41f855641161190c69e19b4f11b1/cache-bc849f0145040d8e.arrow\n",
            "WARNING:datasets.arrow_dataset:Loading cached processed dataset at /root/.cache/huggingface/datasets/GroNLP___divemt/main/1.0.0/c875a08adbd66d5d9c6d8c79f7816092829b41f855641161190c69e19b4f11b1/cache-f4441babd9e1d369.arrow\n",
            "WARNING:datasets.arrow_dataset:Loading cached processed dataset at /root/.cache/huggingface/datasets/GroNLP___divemt/main/1.0.0/c875a08adbd66d5d9c6d8c79f7816092829b41f855641161190c69e19b4f11b1/cache-2524e9e4afa65003.arrow\n",
            "WARNING:datasets.arrow_dataset:Loading cached processed dataset at /root/.cache/huggingface/datasets/GroNLP___divemt/main/1.0.0/c875a08adbd66d5d9c6d8c79f7816092829b41f855641161190c69e19b4f11b1/cache-4ca5d4d483f41d3d.arrow\n",
            "WARNING:datasets.arrow_dataset:Loading cached processed dataset at /root/.cache/huggingface/datasets/GroNLP___divemt/main/1.0.0/c875a08adbd66d5d9c6d8c79f7816092829b41f855641161190c69e19b4f11b1/cache-502fbed87c14e09c.arrow\n",
            "WARNING:datasets.arrow_dataset:Loading cached processed dataset at /root/.cache/huggingface/datasets/GroNLP___divemt/main/1.0.0/c875a08adbd66d5d9c6d8c79f7816092829b41f855641161190c69e19b4f11b1/cache-b7be8a4ce4a413ce.arrow\n",
            "WARNING:datasets.arrow_dataset:Loading cached processed dataset at /root/.cache/huggingface/datasets/GroNLP___divemt/main/1.0.0/c875a08adbd66d5d9c6d8c79f7816092829b41f855641161190c69e19b4f11b1/cache-7b0a3d693813a4b2.arrow\n",
            "WARNING:datasets.arrow_dataset:Loading cached processed dataset at /root/.cache/huggingface/datasets/GroNLP___divemt/main/1.0.0/c875a08adbd66d5d9c6d8c79f7816092829b41f855641161190c69e19b4f11b1/cache-685e254a0b843a9f.arrow\n",
            "WARNING:datasets.arrow_dataset:Loading cached processed dataset at /root/.cache/huggingface/datasets/GroNLP___divemt/main/1.0.0/c875a08adbd66d5d9c6d8c79f7816092829b41f855641161190c69e19b4f11b1/cache-0e222cc9995d9a1e.arrow\n",
            "WARNING:datasets.arrow_dataset:Loading cached processed dataset at /root/.cache/huggingface/datasets/GroNLP___divemt/main/1.0.0/c875a08adbd66d5d9c6d8c79f7816092829b41f855641161190c69e19b4f11b1/cache-9306db5e5f557a88.arrow\n",
            "WARNING:datasets.arrow_dataset:Loading cached processed dataset at /root/.cache/huggingface/datasets/GroNLP___divemt/main/1.0.0/c875a08adbd66d5d9c6d8c79f7816092829b41f855641161190c69e19b4f11b1/cache-e6c478820e881987.arrow\n",
            "WARNING:datasets.arrow_dataset:Loading cached processed dataset at /root/.cache/huggingface/datasets/GroNLP___divemt/main/1.0.0/c875a08adbd66d5d9c6d8c79f7816092829b41f855641161190c69e19b4f11b1/cache-f665f87065e3487e.arrow\n",
            "WARNING:datasets.arrow_dataset:Loading cached processed dataset at /root/.cache/huggingface/datasets/GroNLP___divemt/main/1.0.0/c875a08adbd66d5d9c6d8c79f7816092829b41f855641161190c69e19b4f11b1/cache-ea2e545e30a975fc.arrow\n",
            "WARNING:datasets.arrow_dataset:Loading cached processed dataset at /root/.cache/huggingface/datasets/GroNLP___divemt/main/1.0.0/c875a08adbd66d5d9c6d8c79f7816092829b41f855641161190c69e19b4f11b1/cache-5604a6afd64b4895.arrow\n",
            "WARNING:datasets.arrow_dataset:Loading cached processed dataset at /root/.cache/huggingface/datasets/GroNLP___divemt/main/1.0.0/c875a08adbd66d5d9c6d8c79f7816092829b41f855641161190c69e19b4f11b1/cache-5fe3d147ec400b04.arrow\n",
            "WARNING:datasets.arrow_dataset:Loading cached processed dataset at /root/.cache/huggingface/datasets/GroNLP___divemt/main/1.0.0/c875a08adbd66d5d9c6d8c79f7816092829b41f855641161190c69e19b4f11b1/cache-e6bfc42df6580502.arrow\n",
            "WARNING:datasets.arrow_dataset:Loading cached processed dataset at /root/.cache/huggingface/datasets/GroNLP___divemt/main/1.0.0/c875a08adbd66d5d9c6d8c79f7816092829b41f855641161190c69e19b4f11b1/cache-49611548061d37a7.arrow\n",
            "WARNING:datasets.arrow_dataset:Loading cached processed dataset at /root/.cache/huggingface/datasets/GroNLP___divemt/main/1.0.0/c875a08adbd66d5d9c6d8c79f7816092829b41f855641161190c69e19b4f11b1/cache-d5f206617ff942ca.arrow\n",
            "WARNING:datasets.arrow_dataset:Loading cached processed dataset at /root/.cache/huggingface/datasets/GroNLP___divemt/main/1.0.0/c875a08adbd66d5d9c6d8c79f7816092829b41f855641161190c69e19b4f11b1/cache-a21e79b986d6842e.arrow\n"
          ]
        },
        {
          "output_type": "stream",
          "name": "stdout",
          "text": [
            "Dataset({\n",
            "    features: ['unit_id', 'flores_id', 'item_id', 'subject_id', 'lang_id', 'doc_id', 'task_type', 'translation_type', 'src_len_chr', 'mt_len_chr', 'tgt_len_chr', 'src_len_wrd', 'mt_len_wrd', 'tgt_len_wrd', 'edit_time', 'k_total', 'k_letter', 'k_digit', 'k_white', 'k_symbol', 'k_nav', 'k_erase', 'k_copy', 'k_cut', 'k_paste', 'k_do', 'n_pause_geq_300', 'len_pause_geq_300', 'n_pause_geq_1000', 'len_pause_geq_1000', 'event_time', 'num_annotations', 'last_modification_time', 'n_insert', 'n_delete', 'n_substitute', 'n_shift', 'tot_shifted_words', 'tot_edits', 'hter', 'cer', 'bleu', 'chrf', 'time_s', 'time_m', 'time_h', 'time_per_char', 'time_per_word', 'key_per_char', 'words_per_hour', 'words_per_minute', 'per_subject_visit_order', 'src_text', 'mt_text', 'tgt_text', 'aligned_edit', 'src_tokens', 'src_annotations', 'mt_tokens', 'mt_annotations', 'tgt_tokens', 'tgt_annotations', 'src_wmt22_qe', 'mt_wmt22_qe', 'src_upos', 'tgt_upos', 'mt_upos', 'src_feats', 'tgt_feats', 'mt_feats', 'src_head', 'tgt_head', 'mt_head', 'src_deprel', 'tgt_deprel', 'mt_deprel', 'src_start_char', 'tgt_start_char', 'mt_start_char', 'src_end_char', 'tgt_end_char', 'mt_end_char', 'src_ner', 'tgt_ner', 'mt_ner'],\n",
            "    num_rows: 5160\n",
            "})\n"
          ]
        },
        {
          "output_type": "stream",
          "name": "stderr",
          "text": [
            "WARNING:datasets.arrow_dataset:Loading cached processed dataset at /root/.cache/huggingface/datasets/GroNLP___divemt/main/1.0.0/c875a08adbd66d5d9c6d8c79f7816092829b41f855641161190c69e19b4f11b1/cache-d23664f3fae65b13.arrow\n",
            "WARNING:datasets.arrow_dataset:Loading cached processed dataset at /root/.cache/huggingface/datasets/GroNLP___divemt/main/1.0.0/c875a08adbd66d5d9c6d8c79f7816092829b41f855641161190c69e19b4f11b1/cache-cc1088efce819c85.arrow\n"
          ]
        },
        {
          "output_type": "stream",
          "name": "stdout",
          "text": [
            "      ara  ita  nld  tur  ukr  vie  pe1  pe2  src_len_wrd  k_total  \\\n",
            "0       0    0    0    1    0    0    1    0           21       50   \n",
            "1       0    0    0    1    0    0    1    0           22        1   \n",
            "2       0    0    0    1    0    0    1    0           22       69   \n",
            "3       0    0    0    1    0    0    1    0           22       85   \n",
            "4       0    0    0    1    0    0    1    0           15      109   \n",
            "...   ...  ...  ...  ...  ...  ...  ...  ...          ...      ...   \n",
            "5155    1    0    0    0    0    0    1    0           20        8   \n",
            "5156    1    0    0    0    0    0    0    1           19       92   \n",
            "5157    1    0    0    0    0    0    0    1           14      110   \n",
            "5158    1    0    0    0    0    0    0    1           19      162   \n",
            "5159    1    0    0    0    0    0    0    1           25      102   \n",
            "\n",
            "      bad_token_proportions  verb_counter  complexity   edit_time  \n",
            "0                  0.240000             3          10   18.135000  \n",
            "1                  0.000000             4           8    7.469000  \n",
            "2                  0.294118             4          11   28.256001  \n",
            "3                  0.380952             4          12   35.672001  \n",
            "4                  0.666667             2           9   27.431000  \n",
            "...                     ...           ...         ...         ...  \n",
            "5155               0.000000             1           9   14.137000  \n",
            "5156               0.200000             3          10  122.169998  \n",
            "5157               0.187500             2          10   58.584000  \n",
            "5158               0.318182             3           9  138.244003  \n",
            "5159               0.071429             4          11   66.929001  \n",
            "\n",
            "[5160 rows x 14 columns]\n",
            "Linear regressor mean_absolute_error 86.65145201805247\n",
            "Baseline mean_absolute_error 105.07476989968617\n",
            "Linear regressor mean_squared_error 379246.2520123555\n",
            "Baseline mean_squared_error 402656.53700973187\n",
            "                   labels      coefs\n",
            "0                     ara  32.715715\n",
            "1                     ita   9.702722\n",
            "2                     nld -13.933302\n",
            "3                     tur -26.771929\n",
            "4                     ukr -17.892849\n",
            "5                     vie  16.179643\n",
            "6                     pe1  -0.884863\n",
            "7                     pe2   0.884863\n",
            "8             src_len_wrd   2.572788\n",
            "9                 k_total   0.410446\n",
            "10  bad_token_proportions  55.831903\n",
            "11           verb_counter  -1.549185\n",
            "12             complexity  -0.152939\n",
            "Linear regressor mean_absolute_error 88.74717398354434\n",
            "Baseline mean_absolute_error 98.72686497426992\n",
            "Linear regressor mean_squared_error 124011.86830019005\n",
            "Baseline mean_squared_error 127825.6549372992\n",
            "                   labels      coefs\n",
            "0                     ara  20.179780\n",
            "1                     ita  26.526173\n",
            "2                     nld   3.207752\n",
            "3                     tur -11.026309\n",
            "4                     ukr -51.789322\n",
            "5                     vie  12.901927\n",
            "6                     pe1  -2.871456\n",
            "7                     pe2   2.871456\n",
            "8             src_len_wrd   1.499552\n",
            "9                 k_total   0.868676\n",
            "10  bad_token_proportions -55.242900\n",
            "11           verb_counter  -4.872242\n",
            "12             complexity   0.513481\n",
            "Linear regressor mean_absolute_error 73.09424289114794\n",
            "Baseline mean_absolute_error 81.26788021037139\n",
            "Linear regressor mean_squared_error 20860.743891650272\n",
            "Baseline mean_squared_error 19837.01066427598\n",
            "                   labels      coefs\n",
            "0                     ara  25.024401\n",
            "1                     ita  22.438739\n",
            "2                     nld  -1.433820\n",
            "3                     tur -15.165354\n",
            "4                     ukr -57.630808\n",
            "5                     vie  26.766842\n",
            "6                     pe1  -3.142714\n",
            "7                     pe2   3.142714\n",
            "8             src_len_wrd   1.482852\n",
            "9                 k_total   0.889524\n",
            "10  bad_token_proportions -74.615642\n",
            "11           verb_counter  -3.547006\n",
            "12             complexity   0.378034\n",
            "Linear regressor mean_absolute_error 72.48366281109236\n",
            "Baseline mean_absolute_error 81.46609563601297\n",
            "Linear regressor mean_squared_error 26776.383595751802\n",
            "Baseline mean_squared_error 29204.21375404463\n",
            "                   labels      coefs\n",
            "0                     ara  31.226887\n",
            "1                     ita  20.876980\n",
            "2                     nld  -2.317135\n",
            "3                     tur -16.257494\n",
            "4                     ukr -52.675735\n",
            "5                     vie  19.146497\n",
            "6                     pe1  -2.611316\n",
            "7                     pe2   2.611316\n",
            "8             src_len_wrd   1.643900\n",
            "9                 k_total   0.848451\n",
            "10  bad_token_proportions -66.610427\n",
            "11           verb_counter  -3.482238\n",
            "12             complexity   0.516708\n",
            "Linear regressor mean_absolute_error 79.36120467532066\n",
            "Baseline mean_absolute_error 89.55601766792391\n",
            "Linear regressor mean_squared_error 53254.544840708346\n",
            "Baseline mean_squared_error 59720.316830760625\n",
            "                   labels      coefs\n",
            "0                     ara  22.987077\n",
            "1                     ita  19.749868\n",
            "2                     nld  -0.708404\n",
            "3                     tur -14.597132\n",
            "4                     ukr -50.895263\n",
            "5                     vie  23.463853\n",
            "6                     pe1  -2.749155\n",
            "7                     pe2   2.749155\n",
            "8             src_len_wrd   0.950070\n",
            "9                 k_total   0.834329\n",
            "10  bad_token_proportions -55.900484\n",
            "11           verb_counter  -0.342071\n",
            "12             complexity  -0.789578\n",
            "[86.65145201805247, 88.74717398354434, 73.09424289114794, 72.48366281109236, 79.36120467532066]\n",
            "80.06754727583156\n",
            "6.713045790475987\n",
            "[105.07476989968617, 98.72686497426992, 81.26788021037139, 81.46609563601297, 89.55601766792391]\n",
            "91.21832567765287\n",
            "9.436734949639924\n"
          ]
        }
      ]
    },
    {
      "cell_type": "code",
      "source": [
        "# Analyse the amount of errors versus the editing time.\n",
        "def errors_vs_editing_time(data, bad_tokens):\n",
        "  # Determine how often each amount of errors occurs + the total editing time per amount of errors.\n",
        "  counter_errors = np.zeros(max(bad_tokens)+1)\n",
        "  time_per_errors = np.zeros(max(bad_tokens)+1)\n",
        "  for i in range(len(data)):\n",
        "    counter_errors[bad_tokens[i]] += 1\n",
        "    time_per_errors[bad_tokens[i]] += data['edit_time'][i]\n",
        "  \n",
        "  # Compute the average editing time per amount of errors\n",
        "  average_time_per_error = np.zeros(max(bad_tokens)+1)\n",
        "  for i in range(len(counter_errors)):\n",
        "    if counter_errors[i] == 0:\n",
        "      average_time_per_error[i] = 0\n",
        "    else:\n",
        "      average_time_per_error[i] = time_per_errors[i]/counter_errors[i]\n",
        "  return counter_errors, time_per_errors, average_time_per_error\n",
        "\n",
        "proportion_bad_tokens, bad_tokens = determine_proportion_bad_tokens(data_mt)\n",
        "counter_errors, time_per_errors, average_time_per_error = errors_vs_editing_time(data_mt, bad_tokens)\n",
        "\n",
        "# Create a dataframe for the output.\n",
        "counter_df = pd.DataFrame(counter_errors, columns = ['counter_errors'])\n",
        "time_df = pd.DataFrame(time_per_errors, columns = ['time'])\n",
        "avg_time_df = pd.DataFrame(average_time_per_error, columns = ['avg_time'])\n",
        "editing_time_vs_errors = pd.concat([counter_df, time_df, avg_time_df], axis=1)\n",
        "print(editing_time_vs_errors)"
      ],
      "metadata": {
        "colab": {
          "base_uri": "https://localhost:8080/"
        },
        "id": "683oJ9QwtB0x",
        "outputId": "4676b42e-8838-4442-d169-c2d7860dde0d"
      },
      "execution_count": null,
      "outputs": [
        {
          "output_type": "stream",
          "name": "stdout",
          "text": [
            "    counter_errors          time    avg_time\n",
            "0            554.0  17979.770019   32.454459\n",
            "1            417.0  18152.754025   43.531784\n",
            "2            389.0  21626.064034   55.593995\n",
            "3            374.0  26362.529066   70.488046\n",
            "4            382.0  28266.161954   73.995188\n",
            "5            394.0  40631.253238  103.125008\n",
            "6            322.0  33706.074932  104.677251\n",
            "7            345.0  33822.043917   98.034910\n",
            "8            296.0  33952.622919  114.704807\n",
            "9            257.0  36674.864862  142.703754\n",
            "10           236.0  39442.804934  167.130529\n",
            "11           184.0  25785.965948  140.141119\n",
            "12           185.0  26732.901918  144.502173\n",
            "13           141.0  21001.167084  148.944447\n",
            "14           124.0  30184.005032  243.419395\n",
            "15           106.0  19119.943966  180.376830\n",
            "16            78.0  14924.865948  191.344435\n",
            "17            77.0  13011.578915  168.981544\n",
            "18            59.0  10552.853977  178.861932\n",
            "19            38.0  10108.658077  266.017318\n",
            "20            40.0   9142.986027  228.574651\n",
            "21            38.0  25317.298306  666.244692\n",
            "22            30.0   8296.446991  276.548233\n",
            "23            19.0   4353.180996  229.114789\n",
            "24            17.0   3461.798065  203.635180\n",
            "25            11.0   2516.594963  228.781360\n",
            "26             8.0   2430.451035  303.806379\n",
            "27             6.0   1283.399025  213.899837\n",
            "28             5.0    885.714020  177.142804\n",
            "29             7.0   2772.750992  396.107285\n",
            "30             7.0   3679.614044  525.659149\n",
            "31             2.0    444.025009  222.012505\n",
            "32             4.0   1868.180954  467.045238\n",
            "33             1.0    264.049988  264.049988\n",
            "34             0.0      0.000000    0.000000\n",
            "35             1.0    497.315002  497.315002\n",
            "36             0.0      0.000000    0.000000\n",
            "37             1.0    196.544998  196.544998\n",
            "38             3.0    805.629990  268.543330\n",
            "39             0.0      0.000000    0.000000\n",
            "40             0.0      0.000000    0.000000\n",
            "41             0.0      0.000000    0.000000\n",
            "42             0.0      0.000000    0.000000\n",
            "43             0.0      0.000000    0.000000\n",
            "44             0.0      0.000000    0.000000\n",
            "45             1.0    202.431000  202.431000\n",
            "46             0.0      0.000000    0.000000\n",
            "47             1.0     41.424000   41.424000\n"
          ]
        }
      ]
    },
    {
      "cell_type": "code",
      "source": [
        "import matplotlib.pyplot as plt\n",
        "plt.bar(np.arange(max(bad_tokens) + 1), counter_errors, edgecolor='black')\n",
        "plt.xlabel('Number of errors')\n",
        "plt.ylabel(f'Frequency')\n",
        "plt.title(f'Frequency per number of errors')\n",
        "# plt.xticks(rotation=90)  # set rotation to 90 degrees\n",
        "plt.grid(axis='y', linestyle='--', alpha=0.7)\n",
        "plt.show()"
      ],
      "metadata": {
        "colab": {
          "base_uri": "https://localhost:8080/",
          "height": 472
        },
        "id": "hAPZnNsx4pBM",
        "outputId": "57c179f1-4356-4e34-c85d-57400526e5fb"
      },
      "execution_count": null,
      "outputs": [
        {
          "output_type": "display_data",
          "data": {
            "text/plain": [
              "<Figure size 640x480 with 1 Axes>"
            ],
            "image/png": "[encoded data removed]"
          },
          "metadata": {}
        }
      ]
    },
    {
      "cell_type": "code",
      "source": [
        "plt.bar(np.arange(max(bad_tokens) + 1), average_time_per_error, edgecolor='black')\n",
        "plt.xlabel('Number of errors')\n",
        "plt.ylabel(f'Average post-editing time')\n",
        "plt.title(f'Average post-editing time per number of errors')\n",
        "# plt.xticks(rotation=90)  # set rotation to 90 degrees\n",
        "plt.grid(axis='y', linestyle='--', alpha=0.7)\n",
        "plt.show()"
      ],
      "metadata": {
        "colab": {
          "base_uri": "https://localhost:8080/",
          "height": 472
        },
        "id": "fbZ1aNkU6Yq3",
        "outputId": "6f433131-9d5c-44f0-9705-8949777871e0"
      },
      "execution_count": null,
      "outputs": [
        {
          "output_type": "display_data",
          "data": {
            "text/plain": [
              "<Figure size 640x480 with 1 Axes>"
            ],
            "image/png": "[encoded data removed]"
          },
          "metadata": {}
        }
      ]
    }
  ]
}